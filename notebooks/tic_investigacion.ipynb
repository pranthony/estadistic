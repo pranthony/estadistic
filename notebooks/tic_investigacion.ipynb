{
 "cells": [
  {
   "cell_type": "code",
   "execution_count": 1,
   "metadata": {},
   "outputs": [
    {
     "name": "stdout",
     "output_type": "stream",
     "text": [
      "                                               Column       Mean  Median  \\\n",
      "0                                           1. Edad:   21.196721   21.00   \n",
      "1   6. En una escala del 1 al 5, ¿cómo calificaría...   3.655738    4.00   \n",
      "2   7. ¿Con qué frecuencia utilizas los siguientes...   3.114754    3.00   \n",
      "3   7. ¿Con qué frecuencia utilizas los siguientes...   3.000000    3.00   \n",
      "4   7. ¿Con qué frecuencia utilizas los siguientes...   3.147541    3.00   \n",
      "5   7. ¿Con qué frecuencia utilizas los siguientes...   3.901639    4.00   \n",
      "6   7. ¿Con qué frecuencia utilizas los siguientes...   3.770492    4.00   \n",
      "7   9. Evalúa tu nivel de habilidad en las siguien...   3.475410    3.00   \n",
      "8   9. Evalúa tu nivel de habilidad en las siguien...   3.459016    3.00   \n",
      "9   9. Evalúa tu nivel de habilidad en las siguien...   2.934426    3.00   \n",
      "10  9. Evalúa tu nivel de habilidad en las siguien...   3.672131    4.00   \n",
      "11  9. Evalúa tu nivel de habilidad en las siguien...   2.704918    3.00   \n",
      "12  10. Indica tu grado de acuerdo con las siguien...   4.245902    4.00   \n",
      "13  10. Indica tu grado de acuerdo con las siguien...   3.836066    4.00   \n",
      "14  10. Indica tu grado de acuerdo con las siguien...   4.081967    4.00   \n",
      "15  10. Indica tu grado de acuerdo con las siguien...   3.819672    4.00   \n",
      "16  11. ¿Cuál es tu promedio general acumulado act...  14.153654   14.08   \n",
      "\n",
      "    Mode   Variance  Standard Deviation  \n",
      "0   22.0  13.760656            3.709536  \n",
      "1    4.0   0.929508            0.964110  \n",
      "2    3.0   1.303279            1.141612  \n",
      "3    3.0   1.066667            1.032796  \n",
      "4    3.0   1.327869            1.152332  \n",
      "5    4.0   0.856831            0.925651  \n",
      "6    3.0   1.013115            1.006536  \n",
      "7    3.0   0.953552            0.976500  \n",
      "8    3.0   0.752459            0.867444  \n",
      "9    3.0   1.162295            1.078098  \n",
      "10   3.0   0.890710            0.943775  \n",
      "11   2.0   1.378142            1.173943  \n",
      "12   5.0   0.821858            0.906564  \n",
      "13   4.0   0.906011            0.951846  \n",
      "14   4.0   0.676503            0.822498  \n",
      "15   5.0   1.150273            1.072508  \n",
      "16  14.0   3.037337            1.742796  \n"
     ]
    }
   ],
   "source": [
    "import pandas as pd\n",
    "\n",
    "data = pd.read_csv('../mock/cuestionario_completo.csv')\n",
    "\n",
    "# Inicializamos un diccionario para almacenar resultados estadísticos\n",
    "statistical_summary = {\n",
    "    \"Column\": [],\n",
    "    \"Mean\": [],\n",
    "    \"Median\": [],\n",
    "    \"Mode\": [],\n",
    "    \"Variance\": [],\n",
    "    \"Standard Deviation\": []\n",
    "}\n",
    "\n",
    "# Iteramos sobre las columnas numéricas para calcular medidas estadísticas\n",
    "for col in data.select_dtypes(include=['int64', 'float64']).columns:\n",
    "    # Excluimos NaN al calcular estadísticas\n",
    "    col_data = data[col].dropna()\n",
    "    statistical_summary[\"Column\"].append(col)\n",
    "    statistical_summary[\"Mean\"].append(col_data.mean())\n",
    "    statistical_summary[\"Median\"].append(col_data.median())\n",
    "    mode_val = col_data.mode()\n",
    "    statistical_summary[\"Mode\"].append(mode_val[0] if not mode_val.empty else np.nan)\n",
    "    statistical_summary[\"Variance\"].append(col_data.var())\n",
    "    statistical_summary[\"Standard Deviation\"].append(col_data.std())\n",
    "\n",
    "# Convertimos el diccionario en un DataFrame para visualizar el resumen estadístico\n",
    "summary_df = pd.DataFrame(statistical_summary)\n",
    "print(summary_df)\n",
    "\n"
   ]
  }
 ],
 "metadata": {
  "kernelspec": {
   "display_name": "desc-9CBzQLCR-py3.10",
   "language": "python",
   "name": "python3"
  },
  "language_info": {
   "codemirror_mode": {
    "name": "ipython",
    "version": 3
   },
   "file_extension": ".py",
   "mimetype": "text/x-python",
   "name": "python",
   "nbconvert_exporter": "python",
   "pygments_lexer": "ipython3",
   "version": "3.10.15"
  }
 },
 "nbformat": 4,
 "nbformat_minor": 2
}
