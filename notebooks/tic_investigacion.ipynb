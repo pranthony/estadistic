{
 "cells": [
  {
   "cell_type": "code",
   "execution_count": 2,
   "metadata": {},
   "outputs": [
    {
     "name": "stdout",
     "output_type": "stream",
     "text": [
      "                   Column       Mean  Median  Mode   Variance  \\\n",
      "0                     age  21.244898    21.0  22.0  16.897109   \n",
      "1              study_year   3.040816     3.0   4.0   2.123299   \n",
      "2      quality_connection   3.530612     4.0   4.0   1.004252   \n",
      "3       tic_educative_fcy   2.857143     3.0   3.0   1.208333   \n",
      "4              tic_db_fcy   2.755102     3.0   3.0   0.938776   \n",
      "5        tic_software_fcy   2.918367     3.0   3.0   1.243197   \n",
      "6    tic_colaborative_fcy   3.755102     4.0   4.0   0.897109   \n",
      "7          tic_smedia_fcy   3.612245     3.0   3.0   0.992347   \n",
      "8         media_usage_tic   2.826531     1.5   1.5   3.807823   \n",
      "9          tic_hability_1   3.204082     3.0   3.0   0.707483   \n",
      "10         tic_hability_2   3.387755     3.0   3.0   0.825680   \n",
      "11         tic_hability_3   2.775510     3.0   3.0   1.094388   \n",
      "12         tic_hability_4   3.469388     3.0   3.0   0.795918   \n",
      "13         tic_hability_5   2.469388     2.0   2.0   1.337585   \n",
      "14  concert_affirmation_1   4.122449     4.0   5.0   0.901361   \n",
      "15  concert_affirmation_2   3.714286     4.0   3.0   0.916667   \n",
      "16  concert_affirmation_3   3.959184     4.0   4.0   0.706633   \n",
      "17  concert_affirmation_4   3.632653     4.0   3.0   1.195578   \n",
      "18                   nota  13.699750    14.0  14.0   2.782715   \n",
      "\n",
      "    Standard Deviation  \n",
      "0             4.110609  \n",
      "1             1.457155  \n",
      "2             1.002124  \n",
      "3             1.099242  \n",
      "4             0.968904  \n",
      "5             1.114988  \n",
      "6             0.947158  \n",
      "7             0.996166  \n",
      "8             1.951364  \n",
      "9             0.841120  \n",
      "10            0.908670  \n",
      "11            1.046130  \n",
      "12            0.892143  \n",
      "13            1.156540  \n",
      "14            0.949400  \n",
      "15            0.957427  \n",
      "16            0.840614  \n",
      "17            1.093425  \n",
      "18            1.668147  \n"
     ]
    }
   ],
   "source": [
    "import pandas as pd\n",
    "\n",
    "data = pd.read_csv('../mock/respuestas_cuestionario.csv', delimiter=';')\n",
    "\n",
    "# Inicializamos un diccionario para almacenar resultados estadísticos\n",
    "statistical_summary = {\n",
    "    \"Column\": [],\n",
    "    \"Mean\": [],\n",
    "    \"Median\": [],\n",
    "    \"Mode\": [],\n",
    "    \"Variance\": [],\n",
    "    \"Standard Deviation\": []\n",
    "}\n",
    "\n",
    "# Iteramos sobre las columnas numéricas para calcular medidas estadísticas\n",
    "for col in data.select_dtypes(include=['int64', 'float64']).columns:\n",
    "    # Excluimos NaN al calcular estadísticas\n",
    "    col_data = data[col].dropna()\n",
    "    statistical_summary[\"Column\"].append(col)\n",
    "    statistical_summary[\"Mean\"].append(col_data.mean())\n",
    "    statistical_summary[\"Median\"].append(col_data.median())\n",
    "    mode_val = col_data.mode()\n",
    "    statistical_summary[\"Mode\"].append(mode_val[0] if not mode_val.empty else np.nan)\n",
    "    statistical_summary[\"Variance\"].append(col_data.var())\n",
    "    statistical_summary[\"Standard Deviation\"].append(col_data.std())\n",
    "\n",
    "# Convertimos el diccionario en un DataFrame para visualizar el resumen estadístico\n",
    "summary_df = pd.DataFrame(statistical_summary)\n",
    "print(summary_df)\n",
    "\n"
   ]
  }
 ],
 "metadata": {
  "kernelspec": {
   "display_name": "desc-9CBzQLCR-py3.10",
   "language": "python",
   "name": "python3"
  },
  "language_info": {
   "codemirror_mode": {
    "name": "ipython",
    "version": 3
   },
   "file_extension": ".py",
   "mimetype": "text/x-python",
   "name": "python",
   "nbconvert_exporter": "python",
   "pygments_lexer": "ipython3",
   "version": "3.10.15"
  }
 },
 "nbformat": 4,
 "nbformat_minor": 2
}
