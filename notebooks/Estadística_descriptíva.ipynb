{
  "cells": [
    {
      "cell_type": "code",
      "execution_count": 1,
      "metadata": {},
      "outputs": [],
      "source": [
        "from desc.frecuence import FrequencyAnalysis"
      ]
    },
    {
      "cell_type": "code",
      "execution_count": 2,
      "metadata": {
        "colab": {
          "base_uri": "https://localhost:8080/",
          "height": 300
        },
        "id": "N4MtCnM7yxdF",
        "outputId": "0a907d85-7596-407b-9add-944dc0c27ff0"
      },
      "outputs": [
        {
          "data": {
            "text/html": [
              "<div>\n",
              "<style scoped>\n",
              "    .dataframe tbody tr th:only-of-type {\n",
              "        vertical-align: middle;\n",
              "    }\n",
              "\n",
              "    .dataframe tbody tr th {\n",
              "        vertical-align: top;\n",
              "    }\n",
              "\n",
              "    .dataframe thead th {\n",
              "        text-align: right;\n",
              "    }\n",
              "</style>\n",
              "<table border=\"1\" class=\"dataframe\">\n",
              "  <thead>\n",
              "    <tr style=\"text-align: right;\">\n",
              "      <th></th>\n",
              "      <th>I</th>\n",
              "      <th>fi</th>\n",
              "      <th>hi</th>\n",
              "      <th>%i</th>\n",
              "      <th>Fi</th>\n",
              "      <th>Hi</th>\n",
              "      <th>$i</th>\n",
              "    </tr>\n",
              "  </thead>\n",
              "  <tbody>\n",
              "    <tr>\n",
              "      <th>0</th>\n",
              "      <td>150.00 - 155.00</td>\n",
              "      <td>7</td>\n",
              "      <td>0.07</td>\n",
              "      <td>7.0</td>\n",
              "      <td>7</td>\n",
              "      <td>0.07</td>\n",
              "      <td>7.0</td>\n",
              "    </tr>\n",
              "    <tr>\n",
              "      <th>1</th>\n",
              "      <td>155.00 - 160.00</td>\n",
              "      <td>7</td>\n",
              "      <td>0.07</td>\n",
              "      <td>7.0</td>\n",
              "      <td>14</td>\n",
              "      <td>0.14</td>\n",
              "      <td>14.0</td>\n",
              "    </tr>\n",
              "    <tr>\n",
              "      <th>2</th>\n",
              "      <td>160.00 - 165.00</td>\n",
              "      <td>9</td>\n",
              "      <td>0.09</td>\n",
              "      <td>9.0</td>\n",
              "      <td>23</td>\n",
              "      <td>0.23</td>\n",
              "      <td>23.0</td>\n",
              "    </tr>\n",
              "    <tr>\n",
              "      <th>3</th>\n",
              "      <td>165.00 - 170.00</td>\n",
              "      <td>25</td>\n",
              "      <td>0.25</td>\n",
              "      <td>25.0</td>\n",
              "      <td>48</td>\n",
              "      <td>0.48</td>\n",
              "      <td>48.0</td>\n",
              "    </tr>\n",
              "    <tr>\n",
              "      <th>4</th>\n",
              "      <td>170.00 - 175.00</td>\n",
              "      <td>17</td>\n",
              "      <td>0.17</td>\n",
              "      <td>17.0</td>\n",
              "      <td>65</td>\n",
              "      <td>0.65</td>\n",
              "      <td>65.0</td>\n",
              "    </tr>\n",
              "    <tr>\n",
              "      <th>5</th>\n",
              "      <td>175.00 - 180.00</td>\n",
              "      <td>12</td>\n",
              "      <td>0.12</td>\n",
              "      <td>12.0</td>\n",
              "      <td>77</td>\n",
              "      <td>0.77</td>\n",
              "      <td>77.0</td>\n",
              "    </tr>\n",
              "    <tr>\n",
              "      <th>6</th>\n",
              "      <td>180.00 - 185.00</td>\n",
              "      <td>9</td>\n",
              "      <td>0.09</td>\n",
              "      <td>9.0</td>\n",
              "      <td>86</td>\n",
              "      <td>0.86</td>\n",
              "      <td>86.0</td>\n",
              "    </tr>\n",
              "    <tr>\n",
              "      <th>7</th>\n",
              "      <td>185.00 - 190.00</td>\n",
              "      <td>14</td>\n",
              "      <td>0.14</td>\n",
              "      <td>14.0</td>\n",
              "      <td>100</td>\n",
              "      <td>1.00</td>\n",
              "      <td>100.0</td>\n",
              "    </tr>\n",
              "  </tbody>\n",
              "</table>\n",
              "</div>"
            ],
            "text/plain": [
              "                 I  fi    hi    %i   Fi    Hi     $i\n",
              "0  150.00 - 155.00   7  0.07   7.0    7  0.07    7.0\n",
              "1  155.00 - 160.00   7  0.07   7.0   14  0.14   14.0\n",
              "2  160.00 - 165.00   9  0.09   9.0   23  0.23   23.0\n",
              "3  165.00 - 170.00  25  0.25  25.0   48  0.48   48.0\n",
              "4  170.00 - 175.00  17  0.17  17.0   65  0.65   65.0\n",
              "5  175.00 - 180.00  12  0.12  12.0   77  0.77   77.0\n",
              "6  180.00 - 185.00   9  0.09   9.0   86  0.86   86.0\n",
              "7  185.00 - 190.00  14  0.14  14.0  100  1.00  100.0"
            ]
          },
          "execution_count": 2,
          "metadata": {},
          "output_type": "execute_result"
        }
      ],
      "source": [
        "medidas = [\n",
        "    151, 152, 154, 158, 159, 170, 152, 158, 189, 190,\n",
        "    161, 162, 163, 163, 165, 160, 162, 163, 188, 182,\n",
        "    166, 166, 166, 167, 167, 178, 173, 167, 187, 178,\n",
        "    168, 168, 168, 168, 168, 175, 184, 168, 170, 176,\n",
        "    169, 169, 169, 169, 170, 172, 188, 169, 156, 173,\n",
        "    170, 170, 171, 171, 187, 168, 150, 174, 177, 170,\n",
        "    173, 173, 174, 174, 188, 167, 156, 171, 181, 169,\n",
        "    176, 176, 176, 177, 190, 166, 166, 177, 185, 168,\n",
        "    179, 179, 180, 180, 190, 186, 162, 181, 152, 166,\n",
        "    182, 182, 183, 185, 187, 150, 158, 185, 159, 161\n",
        "]\n",
        "\n",
        "analisys_medidas = FrequencyAnalysis(medidas)\n",
        "analisys_medidas.create_distribution_table()\n"
      ]
    },
    {
      "cell_type": "code",
      "execution_count": 3,
      "metadata": {
        "colab": {
          "base_uri": "https://localhost:8080/",
          "height": 269
        },
        "id": "ncXJVDOHc4H_",
        "outputId": "f07e7989-db3b-4189-b072-fc20ad2e927e"
      },
      "outputs": [
        {
          "data": {
            "text/html": [
              "<div>\n",
              "<style scoped>\n",
              "    .dataframe tbody tr th:only-of-type {\n",
              "        vertical-align: middle;\n",
              "    }\n",
              "\n",
              "    .dataframe tbody tr th {\n",
              "        vertical-align: top;\n",
              "    }\n",
              "\n",
              "    .dataframe thead th {\n",
              "        text-align: right;\n",
              "    }\n",
              "</style>\n",
              "<table border=\"1\" class=\"dataframe\">\n",
              "  <thead>\n",
              "    <tr style=\"text-align: right;\">\n",
              "      <th></th>\n",
              "      <th>I</th>\n",
              "      <th>fi</th>\n",
              "      <th>hi</th>\n",
              "      <th>%i</th>\n",
              "      <th>Fi</th>\n",
              "      <th>Hi</th>\n",
              "      <th>$i</th>\n",
              "    </tr>\n",
              "  </thead>\n",
              "  <tbody>\n",
              "    <tr>\n",
              "      <th>0</th>\n",
              "      <td>0.10 - 0.35</td>\n",
              "      <td>5</td>\n",
              "      <td>0.125</td>\n",
              "      <td>12.5</td>\n",
              "      <td>5</td>\n",
              "      <td>0.125</td>\n",
              "      <td>12.5</td>\n",
              "    </tr>\n",
              "    <tr>\n",
              "      <th>1</th>\n",
              "      <td>0.35 - 0.60</td>\n",
              "      <td>2</td>\n",
              "      <td>0.050</td>\n",
              "      <td>5.0</td>\n",
              "      <td>7</td>\n",
              "      <td>0.175</td>\n",
              "      <td>17.5</td>\n",
              "    </tr>\n",
              "    <tr>\n",
              "      <th>2</th>\n",
              "      <td>0.60 - 0.85</td>\n",
              "      <td>10</td>\n",
              "      <td>0.250</td>\n",
              "      <td>25.0</td>\n",
              "      <td>17</td>\n",
              "      <td>0.425</td>\n",
              "      <td>42.5</td>\n",
              "    </tr>\n",
              "    <tr>\n",
              "      <th>3</th>\n",
              "      <td>0.85 - 1.10</td>\n",
              "      <td>6</td>\n",
              "      <td>0.150</td>\n",
              "      <td>15.0</td>\n",
              "      <td>23</td>\n",
              "      <td>0.575</td>\n",
              "      <td>57.5</td>\n",
              "    </tr>\n",
              "    <tr>\n",
              "      <th>4</th>\n",
              "      <td>1.10 - 1.35</td>\n",
              "      <td>8</td>\n",
              "      <td>0.200</td>\n",
              "      <td>20.0</td>\n",
              "      <td>31</td>\n",
              "      <td>0.775</td>\n",
              "      <td>77.5</td>\n",
              "    </tr>\n",
              "    <tr>\n",
              "      <th>5</th>\n",
              "      <td>1.35 - 1.60</td>\n",
              "      <td>5</td>\n",
              "      <td>0.125</td>\n",
              "      <td>12.5</td>\n",
              "      <td>36</td>\n",
              "      <td>0.900</td>\n",
              "      <td>90.0</td>\n",
              "    </tr>\n",
              "    <tr>\n",
              "      <th>6</th>\n",
              "      <td>1.60 - 1.85</td>\n",
              "      <td>4</td>\n",
              "      <td>0.100</td>\n",
              "      <td>10.0</td>\n",
              "      <td>40</td>\n",
              "      <td>1.000</td>\n",
              "      <td>100.0</td>\n",
              "    </tr>\n",
              "  </tbody>\n",
              "</table>\n",
              "</div>"
            ],
            "text/plain": [
              "             I  fi     hi    %i  Fi     Hi     $i\n",
              "0  0.10 - 0.35   5  0.125  12.5   5  0.125   12.5\n",
              "1  0.35 - 0.60   2  0.050   5.0   7  0.175   17.5\n",
              "2  0.60 - 0.85  10  0.250  25.0  17  0.425   42.5\n",
              "3  0.85 - 1.10   6  0.150  15.0  23  0.575   57.5\n",
              "4  1.10 - 1.35   8  0.200  20.0  31  0.775   77.5\n",
              "5  1.35 - 1.60   5  0.125  12.5  36  0.900   90.0\n",
              "6  1.60 - 1.85   4  0.100  10.0  40  1.000  100.0"
            ]
          },
          "execution_count": 3,
          "metadata": {},
          "output_type": "execute_result"
        }
      ],
      "source": [
        "velocity = [\n",
        "    0.3, 0.9, 1.1, 1.7, 1.5, 0.8, 0.7, 1.1,\n",
        "    0.8, 1.0, 1.3, 0.2, 1.6, 0.1, 0.5, 0.7,\n",
        "    1.2, 1.5, 0.8, 0.9, 0.7, 0.5, 1.1, 1.5,\n",
        "    0.1, 1.4, 0.7, 0.8, 0.6, 1.3, 1.2, 1.4,\n",
        "    1.8, 0.7, 0.9, 1.0, 0.3, 1.2, 1.8, 1.0\n",
        "]\n",
        "\n",
        "desc_velocity = FrequencyAnalysis(velocity, class_width=0.25)\n",
        "desc_velocity.create_distribution_table()\n"
      ]
    },
    {
      "cell_type": "markdown",
      "metadata": {},
      "source": [
        "# Estadística y Probabilidades (G1) Examen-Unidad 1\n",
        "\n",
        "##  2 Responder los siguientes casos\n",
        "\n",
        "### a) La siguiente tabla representa el núumero de trabajadores que fuerone ncuestados a 60 empresas en el mes de agosto en 2024 en la región de Huánuco."
      ]
    },
    {
      "cell_type": "code",
      "execution_count": 4,
      "metadata": {},
      "outputs": [],
      "source": [
        "encuested_workers = [\n",
        "  282, 252, 254, 305, 295, 301, 293, 294, 295, 302,\n",
        "  270, 270, 275, 292, 280, 258, 230, 262, 253, 263,\n",
        "  251, 255, 266, 274, 268, 297, 282, 284, 268, 287,\n",
        "  303, 287, 295, 269, 251, 266, 270, 276, 274, 250,\n",
        "  265, 260, 297, 271, 270, 280, 265, 271, 275, 260,\n",
        "  294, 263, 253, 254, 289, 262, 255, 261, 282, 261\n",
        "]"
      ]
    },
    {
      "cell_type": "markdown",
      "metadata": {},
      "source": [
        "#### a.1. Construir una tabla de frecuencia, usando el algorítmo de Sturges. (2 puntos)"
      ]
    },
    {
      "cell_type": "code",
      "execution_count": 5,
      "metadata": {
        "colab": {
          "base_uri": "https://localhost:8080/",
          "height": 269
        },
        "id": "9ZqmEU3-c1ff",
        "outputId": "a1c04d3e-2ad4-4a27-aca5-de39eb99e03f"
      },
      "outputs": [
        {
          "data": {
            "text/html": [
              "<div>\n",
              "<style scoped>\n",
              "    .dataframe tbody tr th:only-of-type {\n",
              "        vertical-align: middle;\n",
              "    }\n",
              "\n",
              "    .dataframe tbody tr th {\n",
              "        vertical-align: top;\n",
              "    }\n",
              "\n",
              "    .dataframe thead th {\n",
              "        text-align: right;\n",
              "    }\n",
              "</style>\n",
              "<table border=\"1\" class=\"dataframe\">\n",
              "  <thead>\n",
              "    <tr style=\"text-align: right;\">\n",
              "      <th></th>\n",
              "      <th>I</th>\n",
              "      <th>fi</th>\n",
              "      <th>hi</th>\n",
              "      <th>%i</th>\n",
              "      <th>Fi</th>\n",
              "      <th>Hi</th>\n",
              "      <th>$i</th>\n",
              "    </tr>\n",
              "  </thead>\n",
              "  <tbody>\n",
              "    <tr>\n",
              "      <th>0</th>\n",
              "      <td>230.00 - 241.00</td>\n",
              "      <td>1</td>\n",
              "      <td>0.016667</td>\n",
              "      <td>1.666667</td>\n",
              "      <td>1</td>\n",
              "      <td>0.016667</td>\n",
              "      <td>1.666667</td>\n",
              "    </tr>\n",
              "    <tr>\n",
              "      <th>1</th>\n",
              "      <td>241.00 - 252.00</td>\n",
              "      <td>3</td>\n",
              "      <td>0.050000</td>\n",
              "      <td>5.000000</td>\n",
              "      <td>4</td>\n",
              "      <td>0.066667</td>\n",
              "      <td>6.666667</td>\n",
              "    </tr>\n",
              "    <tr>\n",
              "      <th>2</th>\n",
              "      <td>252.00 - 263.00</td>\n",
              "      <td>14</td>\n",
              "      <td>0.233333</td>\n",
              "      <td>23.333333</td>\n",
              "      <td>18</td>\n",
              "      <td>0.300000</td>\n",
              "      <td>30.000000</td>\n",
              "    </tr>\n",
              "    <tr>\n",
              "      <th>3</th>\n",
              "      <td>263.00 - 274.00</td>\n",
              "      <td>15</td>\n",
              "      <td>0.250000</td>\n",
              "      <td>25.000000</td>\n",
              "      <td>33</td>\n",
              "      <td>0.550000</td>\n",
              "      <td>55.000000</td>\n",
              "    </tr>\n",
              "    <tr>\n",
              "      <th>4</th>\n",
              "      <td>274.00 - 285.00</td>\n",
              "      <td>11</td>\n",
              "      <td>0.183333</td>\n",
              "      <td>18.333333</td>\n",
              "      <td>44</td>\n",
              "      <td>0.733333</td>\n",
              "      <td>73.333333</td>\n",
              "    </tr>\n",
              "    <tr>\n",
              "      <th>5</th>\n",
              "      <td>285.00 - 296.00</td>\n",
              "      <td>10</td>\n",
              "      <td>0.166667</td>\n",
              "      <td>16.666667</td>\n",
              "      <td>54</td>\n",
              "      <td>0.900000</td>\n",
              "      <td>90.000000</td>\n",
              "    </tr>\n",
              "    <tr>\n",
              "      <th>6</th>\n",
              "      <td>296.00 - 307.00</td>\n",
              "      <td>6</td>\n",
              "      <td>0.100000</td>\n",
              "      <td>10.000000</td>\n",
              "      <td>60</td>\n",
              "      <td>1.000000</td>\n",
              "      <td>100.000000</td>\n",
              "    </tr>\n",
              "  </tbody>\n",
              "</table>\n",
              "</div>"
            ],
            "text/plain": [
              "                 I  fi        hi         %i  Fi        Hi          $i\n",
              "0  230.00 - 241.00   1  0.016667   1.666667   1  0.016667    1.666667\n",
              "1  241.00 - 252.00   3  0.050000   5.000000   4  0.066667    6.666667\n",
              "2  252.00 - 263.00  14  0.233333  23.333333  18  0.300000   30.000000\n",
              "3  263.00 - 274.00  15  0.250000  25.000000  33  0.550000   55.000000\n",
              "4  274.00 - 285.00  11  0.183333  18.333333  44  0.733333   73.333333\n",
              "5  285.00 - 296.00  10  0.166667  16.666667  54  0.900000   90.000000\n",
              "6  296.00 - 307.00   6  0.100000  10.000000  60  1.000000  100.000000"
            ]
          },
          "execution_count": 5,
          "metadata": {},
          "output_type": "execute_result"
        }
      ],
      "source": [
        "desc_workers = FrequencyAnalysis(encuested_workers)\n",
        "desc_workers.create_distribution_table()"
      ]
    },
    {
      "cell_type": "markdown",
      "metadata": {},
      "source": [
        "#### a.3. Elaborar el histograma de frecuencia relativa, generar el polígono de frecuencia absoluta y generar las graficas de torta para la frecuencia porcentual. (2puntos)"
      ]
    },
    {
      "cell_type": "code",
      "execution_count": 6,
      "metadata": {},
      "outputs": [
        {
          "data": {
            "image/png": "[encoded data removed]",
            "text/plain": [
              "<Figure size 1000x600 with 1 Axes>"
            ]
          },
          "metadata": {},
          "output_type": "display_data"
        },
        {
          "data": {
            "text/plain": [
              "7"
            ]
          },
          "execution_count": 6,
          "metadata": {},
          "output_type": "execute_result"
        }
      ],
      "source": [
        "desc_workers.plot_histogram(relative=True)\n",
        "desc_workers.num_classes"
      ]
    },
    {
      "cell_type": "code",
      "execution_count": 7,
      "metadata": {},
      "outputs": [
        {
          "data": {
            "image/png": "[encoded data removed]",
            "text/plain": [
              "<Figure size 640x480 with 1 Axes>"
            ]
          },
          "metadata": {},
          "output_type": "display_data"
        }
      ],
      "source": [
        "desc_workers.plot_pie_diagram()"
      ]
    },
    {
      "cell_type": "markdown",
      "metadata": {},
      "source": [
        "### b) Como control de la ética publicitaria, se requiere que el rendimiento en millas por galón de gasolina que los fabricantes de automóviles usan con fines publicitarios esté basado en un buen número de pruebas efectuadas en diversas condiciones. Al tomar una muestra de 50 automóviles, se registran las siguientes observaciones en millas por galón:"
      ]
    },
    {
      "cell_type": "code",
      "execution_count": 8,
      "metadata": {
        "colab": {
          "base_uri": "https://localhost:8080/",
          "height": 206
        },
        "id": "BN2r8uhkcyD-",
        "outputId": "98996236-2862-4295-993b-be01a93002c5"
      },
      "outputs": [],
      "source": [
        "oil_per_car = [\n",
        "  35.6, 27.9, 29.3, 31.8, 22.5, 34.2, 34.2, 32.7, 26.5, 26.4,\n",
        "  31.0, 31.6, 28.0, 33.7, 32.0, 28.5, 27.5, 29.8, 31.2, 28.7,\n",
        "  30.0, 28.7, 33.2, 30.5, 27.9, 31.2, 29.5, 28.7, 23.0, 30.1,\n",
        "  30.5, 31.3, 24.9, 26.8, 29.9, 28.7, 30.4, 31.3, 32.7, 30.3,\n",
        "  33.5, 30.5, 30.6, 35.1, 28.6, 30.1, 30.3, 29.6, 31.4, 32.4\n",
        "]\n",
        "\n",
        "desc_oil_per_car = FrequencyAnalysis(oil_per_car, num_classes=5)"
      ]
    },
    {
      "cell_type": "markdown",
      "metadata": {},
      "source": [
        "#### Construya un Histograma de frecuencias relativas usando 5 intervalos de clase de la misma longitud."
      ]
    },
    {
      "cell_type": "code",
      "execution_count": 9,
      "metadata": {},
      "outputs": [
        {
          "data": {
            "image/png": "[encoded data removed]",
            "text/plain": [
              "<Figure size 1000x600 with 1 Axes>"
            ]
          },
          "metadata": {},
          "output_type": "display_data"
        }
      ],
      "source": [
        "desc_oil_per_car.plot_histogram(relative=True)"
      ]
    },
    {
      "cell_type": "markdown",
      "metadata": {},
      "source": [
        " #### b.3. Representar gráficamente las distribuciones de las frecuencias obtenidas en(b.1)."
      ]
    },
    {
      "cell_type": "code",
      "execution_count": 10,
      "metadata": {},
      "outputs": [
        {
          "data": {
            "text/html": [
              "<div>\n",
              "<style scoped>\n",
              "    .dataframe tbody tr th:only-of-type {\n",
              "        vertical-align: middle;\n",
              "    }\n",
              "\n",
              "    .dataframe tbody tr th {\n",
              "        vertical-align: top;\n",
              "    }\n",
              "\n",
              "    .dataframe thead th {\n",
              "        text-align: right;\n",
              "    }\n",
              "</style>\n",
              "<table border=\"1\" class=\"dataframe\">\n",
              "  <thead>\n",
              "    <tr style=\"text-align: right;\">\n",
              "      <th></th>\n",
              "      <th>I</th>\n",
              "      <th>fi</th>\n",
              "      <th>hi</th>\n",
              "      <th>%i</th>\n",
              "      <th>Fi</th>\n",
              "      <th>Hi</th>\n",
              "      <th>$i</th>\n",
              "    </tr>\n",
              "  </thead>\n",
              "  <tbody>\n",
              "    <tr>\n",
              "      <th>0</th>\n",
              "      <td>22.50 - 25.50</td>\n",
              "      <td>3</td>\n",
              "      <td>0.06</td>\n",
              "      <td>6.0</td>\n",
              "      <td>3</td>\n",
              "      <td>0.06</td>\n",
              "      <td>6.0</td>\n",
              "    </tr>\n",
              "    <tr>\n",
              "      <th>1</th>\n",
              "      <td>25.50 - 28.50</td>\n",
              "      <td>7</td>\n",
              "      <td>0.14</td>\n",
              "      <td>14.0</td>\n",
              "      <td>10</td>\n",
              "      <td>0.20</td>\n",
              "      <td>20.0</td>\n",
              "    </tr>\n",
              "    <tr>\n",
              "      <th>2</th>\n",
              "      <td>28.50 - 31.50</td>\n",
              "      <td>27</td>\n",
              "      <td>0.54</td>\n",
              "      <td>54.0</td>\n",
              "      <td>37</td>\n",
              "      <td>0.74</td>\n",
              "      <td>74.0</td>\n",
              "    </tr>\n",
              "    <tr>\n",
              "      <th>3</th>\n",
              "      <td>31.50 - 34.50</td>\n",
              "      <td>11</td>\n",
              "      <td>0.22</td>\n",
              "      <td>22.0</td>\n",
              "      <td>48</td>\n",
              "      <td>0.96</td>\n",
              "      <td>96.0</td>\n",
              "    </tr>\n",
              "    <tr>\n",
              "      <th>4</th>\n",
              "      <td>34.50 - 37.50</td>\n",
              "      <td>2</td>\n",
              "      <td>0.04</td>\n",
              "      <td>4.0</td>\n",
              "      <td>50</td>\n",
              "      <td>1.00</td>\n",
              "      <td>100.0</td>\n",
              "    </tr>\n",
              "  </tbody>\n",
              "</table>\n",
              "</div>"
            ],
            "text/plain": [
              "               I  fi    hi    %i  Fi    Hi     $i\n",
              "0  22.50 - 25.50   3  0.06   6.0   3  0.06    6.0\n",
              "1  25.50 - 28.50   7  0.14  14.0  10  0.20   20.0\n",
              "2  28.50 - 31.50  27  0.54  54.0  37  0.74   74.0\n",
              "3  31.50 - 34.50  11  0.22  22.0  48  0.96   96.0\n",
              "4  34.50 - 37.50   2  0.04   4.0  50  1.00  100.0"
            ]
          },
          "execution_count": 10,
          "metadata": {},
          "output_type": "execute_result"
        }
      ],
      "source": [
        "desc_oil_per_car.create_distribution_table()"
      ]
    }
  ],
  "metadata": {
    "colab": {
      "provenance": []
    },
    "kernelspec": {
      "display_name": "Python 3",
      "name": "python3"
    },
    "language_info": {
      "codemirror_mode": {
        "name": "ipython",
        "version": 3
      },
      "file_extension": ".py",
      "mimetype": "text/x-python",
      "name": "python",
      "nbconvert_exporter": "python",
      "pygments_lexer": "ipython3",
      "version": "3.11.10"
    }
  },
  "nbformat": 4,
  "nbformat_minor": 0
}
