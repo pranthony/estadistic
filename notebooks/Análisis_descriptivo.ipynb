{
 "cells": [
  {
   "cell_type": "code",
   "execution_count": 18,
   "metadata": {
    "id": "MkpqX-rQ79pz"
   },
   "outputs": [],
   "source": [
    "from typing import List, Tuple\n",
    "from enum import Enum\n",
    "from collections import Counter\n",
    "\n",
    "import matplotlib.pyplot as plt\n",
    "import numpy as np\n",
    "import pandas as pd\n",
    "import statistics as st\n",
    "import seaborn as sns\n",
    "\n",
    "class FrequencyType(Enum):\n",
    "    ABSOLUTE = 'absolute'\n",
    "    RELATIVE = 'relative'\n",
    "    ABSOLUTE_CUMULATIVE = 'absolute_cumulative'\n",
    "    RELATIVE_CUMULATIVE = 'relative_cumulative'\n",
    "    ABSOLUTE_CUMULATIVE_LT = 'absolute_ut'\n",
    "    RELATIVE_CUMULATIVE_LT = 'relative_lt'\n",
    "\n",
    "class FrequencyAnalysis:\n",
    "    def __init__(\n",
    "        self, data: List[float | int],\n",
    "        num_classes: int = 0,\n",
    "        class_width: float = 0.0\n",
    "    ):\n",
    "        self.data = np.array(data)\n",
    "        self.data_len = len(self.data)\n",
    "        self.min = self.data.min()\n",
    "        self.max = self.data.max()\n",
    "        self.mean = np.mean(self.data)\n",
    "        self.range = self.max - self.min\n",
    "        self.num_classes = num_classes if num_classes else self._sturges_rule()\n",
    "        self.class_width = class_width if class_width else self._calculate_class_width()\n",
    "        self.intervals = self._create_intervals()\n",
    "        self.absolute_freq = self._calculate_frequencies()\n",
    "        self.relative_freq = self.absolute_freq / self.data_len\n",
    "        self.cumulative_freq = np.cumsum(self.absolute_freq)\n",
    "        self.cumulative_relative_freq = np.cumsum(self.relative_freq)\n",
    "        self.bins = np.arange(self.min, self.max + self.class_width, self.class_width)\n",
    "        self.bins_center = (self.bins[:-1] + self.bins[1:]) / 2\n",
    "        self.dict_type_frecuencies = {\n",
    "            FrequencyType.ABSOLUTE: (\n",
    "                self.absolute_freq,\n",
    "                'absoluta'\n",
    "            ),\n",
    "            FrequencyType.RELATIVE: (\n",
    "                self.relative_freq,\n",
    "                'relativa'\n",
    "            ),\n",
    "            FrequencyType.ABSOLUTE_CUMULATIVE: (\n",
    "                self.cumulative_freq,\n",
    "                'absoluta acumulada'\n",
    "            ),\n",
    "            FrequencyType.RELATIVE_CUMULATIVE: (\n",
    "                self.cumulative_relative_freq,\n",
    "                'relativa acumulada'\n",
    "            ),\n",
    "            FrequencyType.ABSOLUTE_CUMULATIVE_LT: (\n",
    "                list(reversed(self.cumulative_freq)),\n",
    "                'absoluta acumulada (menor que)'\n",
    "            ),\n",
    "            FrequencyType.RELATIVE_CUMULATIVE_LT: (\n",
    "                list(reversed(self.cumulative_relative_freq)),\n",
    "                'relativa acumulada (menor que)'\n",
    "            )\n",
    "        }\n",
    "\n",
    "    def _sturges_rule(self) -> int:\n",
    "        return int(np.ceil(1 + 3.322 * np.log10(self.data_len)))\n",
    "\n",
    "    def _calculate_class_width(self) ->  float|int:\n",
    "        return np.ceil(self.range / self.num_classes)\n",
    "\n",
    "    def _create_intervals(self) -> List[Tuple[float|int, float|int]]:\n",
    "        return np.array([\n",
    "            (\n",
    "              self.min + i * self.class_width,\n",
    "              self.min + (i + 1) * self.class_width\n",
    "            )\n",
    "              for i in range(self.num_classes)\n",
    "        ])\n",
    "\n",
    "    def _calculate_frequencies(self) -> np.ndarray:\n",
    "        return np.array([\n",
    "            (\n",
    "                (self.data >= lower) &\n",
    "                (self.data <= upper if (i + 1) == self.num_classes else self.data < upper)\n",
    "            ).sum()\n",
    "            for i, (lower, upper) in enumerate(self.intervals)\n",
    "        ])\n",
    "\n",
    "    def create_distribution_table(self) -> pd.DataFrame:\n",
    "        return pd.DataFrame({\n",
    "            \"Intervalos\": [\n",
    "                f\"[ {lower} - {upper}{' )' if i + 1 != len(self.intervals) else ' ]'}\"\n",
    "                for i, (lower, upper) in enumerate(self.intervals)\n",
    "            ],\n",
    "            \"mi\": self.bins_center.round(1),\n",
    "            \"fi\": self.absolute_freq.round(1),\n",
    "            \"Fi\": self.cumulative_freq.round(1),\n",
    "            \"hi\": self.relative_freq.round(3),\n",
    "            \"Hi\": self.cumulative_relative_freq.round(3),\n",
    "            \"pi\": (self.relative_freq * 100).round(1),\n",
    "            \"Pi\": (self.cumulative_relative_freq * 100).round(1)\n",
    "        }, range(1, len(self.intervals)+1))\n",
    "\n",
    "    def plot_histogram(self, relative=False, polygon=False):\n",
    "      # Crear una nueva figura y ejes\n",
    "      fig, ax = plt.subplots(figsize=(10, 6))\n",
    "\n",
    "      # Calcular los pesos si es relativo\n",
    "      weights = np.ones_like(self.data) / self.data_len if relative else None\n",
    "\n",
    "      # Crear el histograma con estilo minimalista\n",
    "      ax.hist(\n",
    "          self.data,\n",
    "          self.bins,\n",
    "          weights=weights,\n",
    "          edgecolor='black',  # Bordes negros\n",
    "          color='#DDDDDD',  # Color gris claro para las barras\n",
    "      )\n",
    "\n",
    "      frecuencias = self.relative_freq if relative else self.absolute_freq\n",
    "\n",
    "      # Etiquetar cada barra con su frecuencia en estilo minimalista\n",
    "      for rect, freq in zip(ax.patches, frecuencias):  # Usar ax.patches para obtener las barras\n",
    "          height = rect.get_height()\n",
    "          ax.text(\n",
    "              rect.get_x() + rect.get_width() / 2,\n",
    "              height + 0.05,  # Agregar un pequeño espacio vertical\n",
    "              f'{round(freq, 2)}',\n",
    "              va='bottom',\n",
    "              ha='center',\n",
    "              fontsize=10,  # Ajustar el tamaño de la fuente\n",
    "              color='#333333',  # Color gris oscuro para las etiquetas\n",
    "          )\n",
    "\n",
    "      # Agregar polígono de frecuencia si se solicita, en estilo minimalista\n",
    "      if polygon:\n",
    "          ax.plot(\n",
    "              self.bins_center,\n",
    "              frecuencias,\n",
    "              'o-',\n",
    "              label='Polígono de frecuencia',\n",
    "              color='#333333',  # Color gris oscuro para la línea\n",
    "              linewidth=1.5,  # Ajustar el grosor de la línea\n",
    "          )\n",
    "          ax.legend(fontsize=10)  # Ajustar el tamaño de la fuente de la leyenda\n",
    "\n",
    "      # Configurar título y etiquetas de ejes en estilo minimalista\n",
    "      ax.set_title(\n",
    "          'Histograma',\n",
    "          fontsize=14,\n",
    "          fontweight='normal',\n",
    "          color='#333333',\n",
    "      )\n",
    "      ax.set_xlabel('Intervalos', fontsize=12, color='#333333')\n",
    "      ax.set_ylabel(\n",
    "          f\"Frecuencia {'relativa' if relative else 'absoluta'}\",\n",
    "          fontsize=12,\n",
    "          color='#333333',\n",
    "      )\n",
    "\n",
    "      # Ajustar el diseño y eliminar elementos innecesarios\n",
    "      ax.spines['top'].set_visible(False)\n",
    "      ax.spines['right'].set_visible(False)\n",
    "      ax.grid(axis='y', linestyle='-', alpha=0.3)\n",
    "      plt.tight_layout()\n",
    "\n",
    "      plt.close(fig)\n",
    "      # Retornar la figura\n",
    "      return fig\n",
    "\n",
    "    def plot_ogive(self, type_frecuency: FrequencyType=FrequencyType.ABSOLUTE):\n",
    "        fig, ax = plt.subplots(figsize=(10, 6))\n",
    "\n",
    "        # Ogive line with minimalist style\n",
    "        ax.plot(\n",
    "            self.bins_center,\n",
    "            self.dict_type_frecuencies[type_frecuency][0],\n",
    "            'o-',\n",
    "            label='Ogiva',\n",
    "            color='#333333',  # Dark gray line\n",
    "            linewidth=1.5     # Slightly thicker line for emphasis\n",
    "        )\n",
    "\n",
    "        # Frequency labels with minimalist style\n",
    "        for rect, freq in zip(self.bins_center, self.dict_type_frecuencies[type_frecuency][0]):\n",
    "            ax.text(\n",
    "                rect,\n",
    "                freq,\n",
    "                f'{round(freq, 2)}',\n",
    "                va='bottom',\n",
    "                ha='center',\n",
    "                fontsize=10,    # Smaller font size\n",
    "                color='#333333' # Dark gray text color\n",
    "            )\n",
    "\n",
    "        # Title and labels with minimalist style\n",
    "        ax.set_title(\n",
    "            \"Diagrama de ogiva\",\n",
    "            fontsize=14,\n",
    "            fontweight='normal',\n",
    "            color='#333333'  # Dark gray title, normal weight\n",
    "        )\n",
    "        ax.set_xlabel(\"Intervalos\", fontsize=12, color='#333333')\n",
    "        ax.set_ylabel(f'Frecuencia {self.dict_type_frecuencies[type_frecuency][1]}', fontsize=12, color='#333333')\n",
    "\n",
    "        # Minimalist legend\n",
    "        ax.legend(fontsize=10)\n",
    "\n",
    "        # Remove spines and add subtle grid\n",
    "        ax.spines['top'].set_visible(False)\n",
    "        ax.spines['right'].set_visible(False)\n",
    "        ax.grid(axis='y', linestyle='-', alpha=0.3)  # Subtler grid\n",
    "\n",
    "        # Adjust layout\n",
    "        plt.tight_layout()\n",
    "        plt.close(fig)\n",
    "\n",
    "        return fig\n",
    "\n",
    "    def plot_pie_diagram(self):\n",
    "        fig, ax = plt.subplots(figsize=(12, 6))\n",
    "\n",
    "        ax.pie(\n",
    "            self.absolute_freq,\n",
    "            labels=[f\"{lower} - {upper}\" for lower, upper in self.intervals],\n",
    "            autopct='%1.1f%%'\n",
    "        )\n",
    "\n",
    "        ax.set_title(\"Diagrama de torta\")\n",
    "\n",
    "        plt.close()\n",
    "\n",
    "        return fig\n",
    "\n",
    "    def calculate_statistics(self) -> dict:\n",
    "        frequency_counts = Counter(self.data)\n",
    "        mode = frequency_counts.most_common(1)[0][0]\n",
    "\n",
    "        return {\n",
    "            \"Media\": self.mean,\n",
    "            \"Mediana\": np.median(self.data),\n",
    "            \"Moda\": mode,\n",
    "            \"Varianza\": self.calculate_varianze(),\n",
    "            \"Desviación estandar\": self.calculate_varianze()** (1/2),\n",
    "            \"Skewness\": pd.Series(self.data).skew(),\n",
    "            \"Kurtosis\": pd.Series(self.data).kurtosis()\n",
    "        }\n",
    "\n",
    "    def calculate_varianze(self):\n",
    "        return 1/(self.data_len-1)*(sum(self.data**2)-self.data_len*(self.mean**2))\n"
   ]
  },
  {
   "cell_type": "markdown",
   "metadata": {},
   "source": []
  },
  {
   "cell_type": "code",
   "execution_count": 19,
   "metadata": {
    "colab": {
     "base_uri": "https://localhost:8080/",
     "height": 444
    },
    "id": "DwhFsyvgXxYr",
    "outputId": "36d3cf91-5235-4fed-9e56-9f7c12b4eb46"
   },
   "outputs": [
    {
     "data": {
      "text/html": [
       "<div>\n",
       "<style scoped>\n",
       "    .dataframe tbody tr th:only-of-type {\n",
       "        vertical-align: middle;\n",
       "    }\n",
       "\n",
       "    .dataframe tbody tr th {\n",
       "        vertical-align: top;\n",
       "    }\n",
       "\n",
       "    .dataframe thead th {\n",
       "        text-align: right;\n",
       "    }\n",
       "</style>\n",
       "<table border=\"1\" class=\"dataframe\">\n",
       "  <thead>\n",
       "    <tr style=\"text-align: right;\">\n",
       "      <th></th>\n",
       "      <th>Id</th>\n",
       "      <th>edad</th>\n",
       "      <th>genero</th>\n",
       "      <th>año</th>\n",
       "      <th>dispositivos_disponibles</th>\n",
       "      <th>tipo_conexion</th>\n",
       "      <th>calidad_internet</th>\n",
       "      <th>uso_plataforma_educativa</th>\n",
       "      <th>uso_db_academica</th>\n",
       "      <th>uso_software_analisis</th>\n",
       "      <th>uso_herramientas_colaboracion</th>\n",
       "      <th>uso_sm_educativa</th>\n",
       "      <th>uso_tiempo_tic</th>\n",
       "      <th>comp_busqueda</th>\n",
       "      <th>comp_data</th>\n",
       "      <th>comp_analisis</th>\n",
       "      <th>comp_presentacion</th>\n",
       "      <th>comp_programacion</th>\n",
       "    </tr>\n",
       "  </thead>\n",
       "  <tbody>\n",
       "    <tr>\n",
       "      <th>0</th>\n",
       "      <td>10R</td>\n",
       "      <td>24</td>\n",
       "      <td>Masculino</td>\n",
       "      <td>4°</td>\n",
       "      <td>2</td>\n",
       "      <td>Fibra óptica</td>\n",
       "      <td>4</td>\n",
       "      <td>5</td>\n",
       "      <td>4</td>\n",
       "      <td>4</td>\n",
       "      <td>4</td>\n",
       "      <td>4</td>\n",
       "      <td>320</td>\n",
       "      <td>4</td>\n",
       "      <td>4</td>\n",
       "      <td>4</td>\n",
       "      <td>4</td>\n",
       "      <td>4</td>\n",
       "    </tr>\n",
       "    <tr>\n",
       "      <th>1</th>\n",
       "      <td>11R</td>\n",
       "      <td>24</td>\n",
       "      <td>Masculino</td>\n",
       "      <td>4°</td>\n",
       "      <td>1</td>\n",
       "      <td>Fibra óptica</td>\n",
       "      <td>3</td>\n",
       "      <td>3</td>\n",
       "      <td>3</td>\n",
       "      <td>2</td>\n",
       "      <td>4</td>\n",
       "      <td>4</td>\n",
       "      <td>100</td>\n",
       "      <td>3</td>\n",
       "      <td>4</td>\n",
       "      <td>2</td>\n",
       "      <td>3</td>\n",
       "      <td>2</td>\n",
       "    </tr>\n",
       "    <tr>\n",
       "      <th>2</th>\n",
       "      <td>12R</td>\n",
       "      <td>21</td>\n",
       "      <td>Masculino</td>\n",
       "      <td>4°</td>\n",
       "      <td>1</td>\n",
       "      <td>4G/5G</td>\n",
       "      <td>1</td>\n",
       "      <td>4</td>\n",
       "      <td>2</td>\n",
       "      <td>1</td>\n",
       "      <td>4</td>\n",
       "      <td>5</td>\n",
       "      <td>80</td>\n",
       "      <td>2</td>\n",
       "      <td>3</td>\n",
       "      <td>1</td>\n",
       "      <td>3</td>\n",
       "      <td>1</td>\n",
       "    </tr>\n",
       "    <tr>\n",
       "      <th>3</th>\n",
       "      <td>13R</td>\n",
       "      <td>21</td>\n",
       "      <td>Masculino</td>\n",
       "      <td>4°</td>\n",
       "      <td>2</td>\n",
       "      <td>4G/5G</td>\n",
       "      <td>3</td>\n",
       "      <td>1</td>\n",
       "      <td>3</td>\n",
       "      <td>3</td>\n",
       "      <td>3</td>\n",
       "      <td>1</td>\n",
       "      <td>70</td>\n",
       "      <td>2</td>\n",
       "      <td>3</td>\n",
       "      <td>3</td>\n",
       "      <td>2</td>\n",
       "      <td>3</td>\n",
       "    </tr>\n",
       "    <tr>\n",
       "      <th>4</th>\n",
       "      <td>14A</td>\n",
       "      <td>22</td>\n",
       "      <td>Masculino</td>\n",
       "      <td>3°</td>\n",
       "      <td>2</td>\n",
       "      <td>4G/5G</td>\n",
       "      <td>3</td>\n",
       "      <td>2</td>\n",
       "      <td>2</td>\n",
       "      <td>4</td>\n",
       "      <td>4</td>\n",
       "      <td>3</td>\n",
       "      <td>230</td>\n",
       "      <td>3</td>\n",
       "      <td>4</td>\n",
       "      <td>2</td>\n",
       "      <td>4</td>\n",
       "      <td>1</td>\n",
       "    </tr>\n",
       "    <tr>\n",
       "      <th>...</th>\n",
       "      <td>...</td>\n",
       "      <td>...</td>\n",
       "      <td>...</td>\n",
       "      <td>...</td>\n",
       "      <td>...</td>\n",
       "      <td>...</td>\n",
       "      <td>...</td>\n",
       "      <td>...</td>\n",
       "      <td>...</td>\n",
       "      <td>...</td>\n",
       "      <td>...</td>\n",
       "      <td>...</td>\n",
       "      <td>...</td>\n",
       "      <td>...</td>\n",
       "      <td>...</td>\n",
       "      <td>...</td>\n",
       "      <td>...</td>\n",
       "      <td>...</td>\n",
       "    </tr>\n",
       "    <tr>\n",
       "      <th>67</th>\n",
       "      <td>68P</td>\n",
       "      <td>20</td>\n",
       "      <td>Femenino</td>\n",
       "      <td>2°</td>\n",
       "      <td>4</td>\n",
       "      <td>Fibra óptica</td>\n",
       "      <td>3</td>\n",
       "      <td>2</td>\n",
       "      <td>3</td>\n",
       "      <td>2</td>\n",
       "      <td>2</td>\n",
       "      <td>3</td>\n",
       "      <td>130</td>\n",
       "      <td>2</td>\n",
       "      <td>4</td>\n",
       "      <td>2</td>\n",
       "      <td>4</td>\n",
       "      <td>2</td>\n",
       "    </tr>\n",
       "    <tr>\n",
       "      <th>68</th>\n",
       "      <td>69P</td>\n",
       "      <td>21</td>\n",
       "      <td>Masculino</td>\n",
       "      <td>2°</td>\n",
       "      <td>2</td>\n",
       "      <td>4G/5G</td>\n",
       "      <td>4</td>\n",
       "      <td>3</td>\n",
       "      <td>4</td>\n",
       "      <td>2</td>\n",
       "      <td>3</td>\n",
       "      <td>4</td>\n",
       "      <td>200</td>\n",
       "      <td>4</td>\n",
       "      <td>4</td>\n",
       "      <td>4</td>\n",
       "      <td>4</td>\n",
       "      <td>3</td>\n",
       "    </tr>\n",
       "    <tr>\n",
       "      <th>69</th>\n",
       "      <td>70P</td>\n",
       "      <td>22</td>\n",
       "      <td>Femenino</td>\n",
       "      <td>3°</td>\n",
       "      <td>3</td>\n",
       "      <td>4G/5G</td>\n",
       "      <td>2</td>\n",
       "      <td>5</td>\n",
       "      <td>4</td>\n",
       "      <td>1</td>\n",
       "      <td>4</td>\n",
       "      <td>1</td>\n",
       "      <td>200</td>\n",
       "      <td>3</td>\n",
       "      <td>3</td>\n",
       "      <td>3</td>\n",
       "      <td>4</td>\n",
       "      <td>4</td>\n",
       "    </tr>\n",
       "    <tr>\n",
       "      <th>70</th>\n",
       "      <td>71P</td>\n",
       "      <td>23</td>\n",
       "      <td>Masculino</td>\n",
       "      <td>2°</td>\n",
       "      <td>2</td>\n",
       "      <td>Fibra óptica</td>\n",
       "      <td>1</td>\n",
       "      <td>3</td>\n",
       "      <td>3</td>\n",
       "      <td>4</td>\n",
       "      <td>2</td>\n",
       "      <td>4</td>\n",
       "      <td>200</td>\n",
       "      <td>3</td>\n",
       "      <td>2</td>\n",
       "      <td>1</td>\n",
       "      <td>2</td>\n",
       "      <td>1</td>\n",
       "    </tr>\n",
       "    <tr>\n",
       "      <th>71</th>\n",
       "      <td>72P</td>\n",
       "      <td>24</td>\n",
       "      <td>Femenino</td>\n",
       "      <td>3°</td>\n",
       "      <td>4</td>\n",
       "      <td>4G/5G</td>\n",
       "      <td>2</td>\n",
       "      <td>3</td>\n",
       "      <td>3</td>\n",
       "      <td>3</td>\n",
       "      <td>2</td>\n",
       "      <td>1</td>\n",
       "      <td>260</td>\n",
       "      <td>2</td>\n",
       "      <td>2</td>\n",
       "      <td>2</td>\n",
       "      <td>2</td>\n",
       "      <td>2</td>\n",
       "    </tr>\n",
       "  </tbody>\n",
       "</table>\n",
       "<p>72 rows × 18 columns</p>\n",
       "</div>"
      ],
      "text/plain": [
       "     Id  edad     genero año  dispositivos_disponibles tipo_conexion  \\\n",
       "0   10R    24  Masculino  4°                         2  Fibra óptica   \n",
       "1   11R    24  Masculino  4°                         1  Fibra óptica   \n",
       "2   12R    21  Masculino  4°                         1         4G/5G   \n",
       "3   13R    21  Masculino  4°                         2         4G/5G   \n",
       "4   14A    22  Masculino  3°                         2         4G/5G   \n",
       "..  ...   ...        ...  ..                       ...           ...   \n",
       "67  68P    20   Femenino  2°                         4  Fibra óptica   \n",
       "68  69P    21  Masculino  2°                         2         4G/5G   \n",
       "69  70P    22   Femenino  3°                         3         4G/5G   \n",
       "70  71P    23  Masculino  2°                         2  Fibra óptica   \n",
       "71  72P    24   Femenino  3°                         4         4G/5G   \n",
       "\n",
       "    calidad_internet  uso_plataforma_educativa  uso_db_academica  \\\n",
       "0                  4                         5                 4   \n",
       "1                  3                         3                 3   \n",
       "2                  1                         4                 2   \n",
       "3                  3                         1                 3   \n",
       "4                  3                         2                 2   \n",
       "..               ...                       ...               ...   \n",
       "67                 3                         2                 3   \n",
       "68                 4                         3                 4   \n",
       "69                 2                         5                 4   \n",
       "70                 1                         3                 3   \n",
       "71                 2                         3                 3   \n",
       "\n",
       "    uso_software_analisis  uso_herramientas_colaboracion  uso_sm_educativa  \\\n",
       "0                       4                              4                 4   \n",
       "1                       2                              4                 4   \n",
       "2                       1                              4                 5   \n",
       "3                       3                              3                 1   \n",
       "4                       4                              4                 3   \n",
       "..                    ...                            ...               ...   \n",
       "67                      2                              2                 3   \n",
       "68                      2                              3                 4   \n",
       "69                      1                              4                 1   \n",
       "70                      4                              2                 4   \n",
       "71                      3                              2                 1   \n",
       "\n",
       "    uso_tiempo_tic  comp_busqueda  comp_data  comp_analisis  \\\n",
       "0              320              4          4              4   \n",
       "1              100              3          4              2   \n",
       "2               80              2          3              1   \n",
       "3               70              2          3              3   \n",
       "4              230              3          4              2   \n",
       "..             ...            ...        ...            ...   \n",
       "67             130              2          4              2   \n",
       "68             200              4          4              4   \n",
       "69             200              3          3              3   \n",
       "70             200              3          2              1   \n",
       "71             260              2          2              2   \n",
       "\n",
       "    comp_presentacion  comp_programacion  \n",
       "0                   4                  4  \n",
       "1                   3                  2  \n",
       "2                   3                  1  \n",
       "3                   2                  3  \n",
       "4                   4                  1  \n",
       "..                ...                ...  \n",
       "67                  4                  2  \n",
       "68                  4                  3  \n",
       "69                  4                  4  \n",
       "70                  2                  1  \n",
       "71                  2                  2  \n",
       "\n",
       "[72 rows x 18 columns]"
      ]
     },
     "execution_count": 19,
     "metadata": {},
     "output_type": "execute_result"
    }
   ],
   "source": [
    "# Configuración\n",
    "datos = pd.read_csv('https://raw.githubusercontent.com/pranthony/Latex/refs/heads/main/Estadistica%20y%20probabilidad/MockData/finaldata.csv')\n",
    "numeric_columns = datos.select_dtypes(include=[np.number]).columns\n",
    "for col in numeric_columns:\n",
    "    datos[col] = datos[col].fillna(datos[col].median())\n",
    "datos"
   ]
  },
  {
   "cell_type": "markdown",
   "metadata": {
    "id": "52KE-SboUw5l"
   },
   "source": [
    "# A. Datos demográficos de la muestra"
   ]
  },
  {
   "cell_type": "markdown",
   "metadata": {
    "id": "VRkyTbaqa6PQ"
   },
   "source": [
    "## 1. Principales estadisticos"
   ]
  },
  {
   "cell_type": "code",
   "execution_count": 32,
   "metadata": {
    "colab": {
     "base_uri": "https://localhost:8080/"
    },
    "id": "SC4DsY--Xdeu",
    "outputId": "fea96772-bcb6-4338-8bb8-73e78e4be34c"
   },
   "outputs": [
    {
     "data": {
      "text/plain": [
       "{'Media': np.float64(20.87454989711934),\n",
       " 'Mediana': np.float64(21.0),\n",
       " 'Moda': np.float64(21.0),\n",
       " 'Varianza': np.float64(2.2435984319889823),\n",
       " 'Desviación estandar': np.float64(1.4978646240528488),\n",
       " 'Skewness': np.float64(-0.008619811576945599),\n",
       " 'Kurtosis': np.float64(-0.24468197796137492)}"
      ]
     },
     "execution_count": 32,
     "metadata": {},
     "output_type": "execute_result"
    }
   ],
   "source": [
    "media_edad = datos['edad'].mean()\n",
    "desviacion_estandar_edad = datos['edad'].std()\n",
    "umbral_edad = 2 * desviacion_estandar_edad\n",
    "mascara_atipicos_edad = (datos['edad'] - media_edad).abs() > umbral_edad\n",
    "datos.loc[mascara_atipicos_edad, 'edad'] = media_edad\n",
    "\n",
    "analisis_edad = FrequencyAnalysis(datos[\"edad\"])\n",
    "analisis_edad.calculate_statistics()\n"
   ]
  },
  {
   "cell_type": "markdown",
   "metadata": {
    "id": "ScCTOLoWAG0K"
   },
   "source": [
    "\n",
    "## 2. Tabla de distribucion de frecuencia de edad\n",
    "\n"
   ]
  },
  {
   "cell_type": "code",
   "execution_count": 21,
   "metadata": {
    "colab": {
     "base_uri": "https://localhost:8080/",
     "height": 300
    },
    "id": "FUCgJiFn9Vk3",
    "outputId": "62efb8d8-1d16-4a27-9002-8f59f69eca52"
   },
   "outputs": [
    {
     "data": {
      "text/html": [
       "<div>\n",
       "<style scoped>\n",
       "    .dataframe tbody tr th:only-of-type {\n",
       "        vertical-align: middle;\n",
       "    }\n",
       "\n",
       "    .dataframe tbody tr th {\n",
       "        vertical-align: top;\n",
       "    }\n",
       "\n",
       "    .dataframe thead th {\n",
       "        text-align: right;\n",
       "    }\n",
       "</style>\n",
       "<table border=\"1\" class=\"dataframe\">\n",
       "  <thead>\n",
       "    <tr style=\"text-align: right;\">\n",
       "      <th></th>\n",
       "      <th>Intervalos</th>\n",
       "      <th>mi</th>\n",
       "      <th>fi</th>\n",
       "      <th>Fi</th>\n",
       "      <th>hi</th>\n",
       "      <th>Hi</th>\n",
       "      <th>pi</th>\n",
       "      <th>Pi</th>\n",
       "    </tr>\n",
       "  </thead>\n",
       "  <tbody>\n",
       "    <tr>\n",
       "      <th>1</th>\n",
       "      <td>[ 17.0 - 18.0 )</td>\n",
       "      <td>17.5</td>\n",
       "      <td>4</td>\n",
       "      <td>4</td>\n",
       "      <td>0.056</td>\n",
       "      <td>0.056</td>\n",
       "      <td>5.6</td>\n",
       "      <td>5.6</td>\n",
       "    </tr>\n",
       "    <tr>\n",
       "      <th>2</th>\n",
       "      <td>[ 18.0 - 19.0 )</td>\n",
       "      <td>18.5</td>\n",
       "      <td>5</td>\n",
       "      <td>9</td>\n",
       "      <td>0.069</td>\n",
       "      <td>0.125</td>\n",
       "      <td>6.9</td>\n",
       "      <td>12.5</td>\n",
       "    </tr>\n",
       "    <tr>\n",
       "      <th>3</th>\n",
       "      <td>[ 19.0 - 20.0 )</td>\n",
       "      <td>19.5</td>\n",
       "      <td>9</td>\n",
       "      <td>18</td>\n",
       "      <td>0.125</td>\n",
       "      <td>0.250</td>\n",
       "      <td>12.5</td>\n",
       "      <td>25.0</td>\n",
       "    </tr>\n",
       "    <tr>\n",
       "      <th>4</th>\n",
       "      <td>[ 20.0 - 21.0 )</td>\n",
       "      <td>20.5</td>\n",
       "      <td>11</td>\n",
       "      <td>29</td>\n",
       "      <td>0.153</td>\n",
       "      <td>0.403</td>\n",
       "      <td>15.3</td>\n",
       "      <td>40.3</td>\n",
       "    </tr>\n",
       "    <tr>\n",
       "      <th>5</th>\n",
       "      <td>[ 21.0 - 22.0 )</td>\n",
       "      <td>21.5</td>\n",
       "      <td>18</td>\n",
       "      <td>47</td>\n",
       "      <td>0.250</td>\n",
       "      <td>0.653</td>\n",
       "      <td>25.0</td>\n",
       "      <td>65.3</td>\n",
       "    </tr>\n",
       "    <tr>\n",
       "      <th>6</th>\n",
       "      <td>[ 22.0 - 23.0 )</td>\n",
       "      <td>22.5</td>\n",
       "      <td>16</td>\n",
       "      <td>63</td>\n",
       "      <td>0.222</td>\n",
       "      <td>0.875</td>\n",
       "      <td>22.2</td>\n",
       "      <td>87.5</td>\n",
       "    </tr>\n",
       "    <tr>\n",
       "      <th>7</th>\n",
       "      <td>[ 23.0 - 24.0 )</td>\n",
       "      <td>23.5</td>\n",
       "      <td>4</td>\n",
       "      <td>67</td>\n",
       "      <td>0.056</td>\n",
       "      <td>0.931</td>\n",
       "      <td>5.6</td>\n",
       "      <td>93.1</td>\n",
       "    </tr>\n",
       "    <tr>\n",
       "      <th>8</th>\n",
       "      <td>[ 24.0 - 25.0 ]</td>\n",
       "      <td>24.5</td>\n",
       "      <td>5</td>\n",
       "      <td>72</td>\n",
       "      <td>0.069</td>\n",
       "      <td>1.000</td>\n",
       "      <td>6.9</td>\n",
       "      <td>100.0</td>\n",
       "    </tr>\n",
       "  </tbody>\n",
       "</table>\n",
       "</div>"
      ],
      "text/plain": [
       "        Intervalos    mi  fi  Fi     hi     Hi    pi     Pi\n",
       "1  [ 17.0 - 18.0 )  17.5   4   4  0.056  0.056   5.6    5.6\n",
       "2  [ 18.0 - 19.0 )  18.5   5   9  0.069  0.125   6.9   12.5\n",
       "3  [ 19.0 - 20.0 )  19.5   9  18  0.125  0.250  12.5   25.0\n",
       "4  [ 20.0 - 21.0 )  20.5  11  29  0.153  0.403  15.3   40.3\n",
       "5  [ 21.0 - 22.0 )  21.5  18  47  0.250  0.653  25.0   65.3\n",
       "6  [ 22.0 - 23.0 )  22.5  16  63  0.222  0.875  22.2   87.5\n",
       "7  [ 23.0 - 24.0 )  23.5   4  67  0.056  0.931   5.6   93.1\n",
       "8  [ 24.0 - 25.0 ]  24.5   5  72  0.069  1.000   6.9  100.0"
      ]
     },
     "execution_count": 21,
     "metadata": {},
     "output_type": "execute_result"
    }
   ],
   "source": [
    "import plotly.graph_objects as go\n",
    "\n",
    "analisis_edad.create_distribution_table()\n"
   ]
  },
  {
   "cell_type": "markdown",
   "metadata": {
    "id": "vtORvVsKbK8q"
   },
   "source": [
    "## 3. Histograma de frecuencia absuluta"
   ]
  },
  {
   "cell_type": "code",
   "execution_count": 22,
   "metadata": {
    "colab": {
     "base_uri": "https://localhost:8080/",
     "height": 484
    },
    "id": "OjTEbe0W_r5k",
    "outputId": "0c6eea24-b754-47c6-8a76-387fde61129a"
   },
   "outputs": [
    {
     "data": {
      "image/png": "[encoded data removed]",
      "text/plain": [
       "<Figure size 1000x600 with 1 Axes>"
      ]
     },
     "execution_count": 22,
     "metadata": {},
     "output_type": "execute_result"
    }
   ],
   "source": [
    "analisis_edad.plot_histogram()"
   ]
  },
  {
   "cell_type": "markdown",
   "metadata": {
    "id": "qIWUn7p4bgAS"
   },
   "source": [
    "## 4. Grafico de barras comparativo por genero y año"
   ]
  },
  {
   "cell_type": "code",
   "execution_count": 23,
   "metadata": {
    "colab": {
     "base_uri": "https://localhost:8080/",
     "height": 484
    },
    "id": "vN79nYORcVnP",
    "outputId": "e2164938-59f2-4e15-c636-2419b00723fd"
   },
   "outputs": [
    {
     "data": {
      "image/png": "[encoded data removed]",
      "text/plain": [
       "<Figure size 1000x600 with 1 Axes>"
      ]
     },
     "metadata": {},
     "output_type": "display_data"
    }
   ],
   "source": [
    "\n",
    "# Crear el gráfico de barras comparativo por género y año\n",
    "plt.figure(figsize=(10, 6))\n",
    "sns.countplot(x='año', hue='genero', data=datos, palette='Set2', order=['1°', '2°', '3°', '4°', '5°'])\n",
    "plt.title('Grafico de barras comparativo por genero y año', fontsize=16)\n",
    "plt.xlabel('Año', fontsize=12)\n",
    "plt.ylabel('Cantidad', fontsize=12)\n",
    "plt.legend(title='Género', fontsize=10)\n",
    "ax = plt.gca()\n",
    "ax.set_facecolor('#fff')\n",
    "for container in ax.containers:\n",
    "    for bar in container:\n",
    "        height = bar.get_height()\n",
    "        label_text = f'{int(height)}'  # Format the label (remove decimals if needed)\n",
    "        ax.text(bar.get_x() + bar.get_width() / 2,  # X-coordinate of the label\n",
    "                height + 0.2,                       # Y-coordinate of the label\n",
    "                label_text,                        # The label text\n",
    "                ha='center', va='bottom',           # Horizontal and vertical alignment\n",
    "                fontsize=8, color='black')         # Font size and color\n",
    "        \n",
    "plt.gca().spines['top'].set_visible(False)  # Remove top and right spines\n",
    "plt.gca().spines['right'].set_visible(False)\n",
    "plt.tight_layout()  # Ajustar diseño para evitar superposición\n",
    "plt.show()"
   ]
  },
  {
   "cell_type": "markdown",
   "metadata": {
    "id": "1M4f-cUbb0Em"
   },
   "source": [
    "# B. Análisis de la brecha digital\n",
    "\n"
   ]
  },
  {
   "cell_type": "markdown",
   "metadata": {
    "id": "nUaewtL1fK2b"
   },
   "source": [
    "## 1. Acceso"
   ]
  },
  {
   "cell_type": "markdown",
   "metadata": {
    "id": "JvuyHxUEfNnB"
   },
   "source": [
    "### 1.a. Disponibilidad de dispositivos electrónicos"
   ]
  },
  {
   "cell_type": "code",
   "execution_count": 24,
   "metadata": {
    "colab": {
     "base_uri": "https://localhost:8080/",
     "height": 484
    },
    "id": "afkoLd69bZA0",
    "outputId": "dd2c96d7-e081-4bb3-8258-9bf938fd84ff"
   },
   "outputs": [
    {
     "data": {
      "image/png": "[encoded data removed]",
      "text/plain": [
       "<Figure size 800x600 with 1 Axes>"
      ]
     },
     "metadata": {},
     "output_type": "display_data"
    }
   ],
   "source": [
    "# Datos para la gráfica de barras\n",
    "frecuencias = datos['dispositivos_disponibles'].value_counts().sort_index()\n",
    "categorias = frecuencias.index\n",
    "valores = frecuencias.values\n",
    "\n",
    "# Crear la gráfica de barras\n",
    "plt.figure(figsize=(8, 6))\n",
    "bars = plt.bar(categorias, valores, color='#DDDDDD', edgecolor='black', width=0.8)  # Light gray bars\n",
    "\n",
    "# Añadir etiquetas encima de cada barra\n",
    "for bar in bars:\n",
    "    altura = bar.get_height()\n",
    "    plt.text(bar.get_x() + bar.get_width() / 2, altura + 0.5, f'{int(altura)}',\n",
    "             ha='center', fontsize=10, color='#333333')  # Dark gray text\n",
    "\n",
    "# Minimalist style adjustments:\n",
    "plt.title('Frecuencia de Dispositivos Disponibles', fontsize=14,\n",
    "          fontweight='normal', color='#333333')  # Dark gray title, normal weight\n",
    "plt.xlabel('Número de dispositivos', fontsize=12, color='#333333')\n",
    "plt.ylabel('Frecuencia', fontsize=12, color='#333333')\n",
    "plt.xticks(categorias, fontsize=10, color='#333333')\n",
    "plt.yticks(fontsize=10, color='#333333')\n",
    "plt.grid(axis='y', linestyle='-', alpha=0.3, color='#CCCCCC')  # Subtler grid\n",
    "plt.gca().spines['top'].set_visible(False)  # Remove top and right spines\n",
    "plt.gca().spines['right'].set_visible(False)\n",
    "plt.tight_layout()\n",
    "\n",
    "plt.show()"
   ]
  },
  {
   "cell_type": "markdown",
   "metadata": {
    "id": "ruYza7Fd0knW"
   },
   "source": [
    "### 1.b. Distribucion de tipos de conexión"
   ]
  },
  {
   "cell_type": "code",
   "execution_count": 25,
   "metadata": {
    "colab": {
     "base_uri": "https://localhost:8080/",
     "height": 542
    },
    "id": "fcs_z2Wgaefn",
    "outputId": "5167613c-465c-4cf3-91a5-0c5770363556"
   },
   "outputs": [
    {
     "data": {
      "application/vnd.plotly.v1+json": {
       "config": {
        "plotlyServerURL": "https://plot.ly"
       },
       "data": [
        {
         "domain": {
          "x": [
           0,
           1
          ],
          "y": [
           0,
           1
          ]
         },
         "hovertemplate": "tipo_conexion=%{label}<extra></extra>",
         "labels": [
          "Fibra óptica",
          "Fibra óptica",
          "4G/5G",
          "4G/5G",
          "4G/5G",
          "4G/5G",
          "4G/5G",
          "4G/5G",
          "4G/5G",
          "4G/5G",
          "Wi-fi Antena",
          "Cable",
          "4G/5G",
          "Cable",
          "Cable",
          "Fibra óptica",
          "4G/5G",
          "Fibra óptica",
          "4G/5G",
          "Fibra óptica",
          "Fibra óptica",
          "Fibra óptica",
          "Fibra óptica",
          "Cable",
          "Fibra óptica",
          "4G/5G",
          "Cable",
          "Fibra óptica",
          "Ninguna",
          "4G/5G",
          "Fibra óptica",
          "4G/5G",
          "Fibra óptica",
          "4G/5G",
          "Fibra óptica",
          "4G/5G",
          "Fibra óptica",
          "Fibra óptica",
          "Fibra óptica",
          "Fibra óptica",
          "Fibra óptica",
          "Cable",
          "Cable",
          "4G/5G",
          "Fibra óptica",
          "Cable",
          "Fibra óptica",
          "Cable",
          "Fibra óptica",
          "Fibra óptica",
          "Fibra óptica",
          "Cable",
          "Cable",
          "4G/5G",
          "Fibra óptica",
          "Fibra óptica",
          "Cable",
          "Cable",
          "Fibra óptica",
          "4G/5G",
          "Fibra óptica",
          "4G/5G",
          "Ninguna",
          "4G/5G",
          "Fibra óptica",
          "4G/5G",
          "4G/5G",
          "Fibra óptica",
          "4G/5G",
          "4G/5G",
          "Fibra óptica",
          "4G/5G"
         ],
         "legendgroup": "",
         "name": "",
         "showlegend": true,
         "textinfo": "percent+label",
         "textposition": "inside",
         "type": "pie"
        }
       ],
       "layout": {
        "legend": {
         "tracegroupgap": 0
        },
        "paper_bgcolor": "rgba(0,0,0,0)",
        "piecolorway": [
         "rgb(102, 197, 204)",
         "rgb(246, 207, 113)",
         "rgb(248, 156, 116)",
         "rgb(220, 176, 242)",
         "rgb(135, 197, 95)",
         "rgb(158, 185, 243)",
         "rgb(254, 136, 177)",
         "rgb(201, 219, 116)",
         "rgb(139, 224, 164)",
         "rgb(180, 151, 231)",
         "rgb(179, 179, 179)"
        ],
        "plot_bgcolor": "rgba(0,0,0,0)",
        "template": {
         "data": {
          "bar": [
           {
            "error_x": {
             "color": "#2a3f5f"
            },
            "error_y": {
             "color": "#2a3f5f"
            },
            "marker": {
             "line": {
              "color": "#E5ECF6",
              "width": 0.5
             },
             "pattern": {
              "fillmode": "overlay",
              "size": 10,
              "solidity": 0.2
             }
            },
            "type": "bar"
           }
          ],
          "barpolar": [
           {
            "marker": {
             "line": {
              "color": "#E5ECF6",
              "width": 0.5
             },
             "pattern": {
              "fillmode": "overlay",
              "size": 10,
              "solidity": 0.2
             }
            },
            "type": "barpolar"
           }
          ],
          "carpet": [
           {
            "aaxis": {
             "endlinecolor": "#2a3f5f",
             "gridcolor": "white",
             "linecolor": "white",
             "minorgridcolor": "white",
             "startlinecolor": "#2a3f5f"
            },
            "baxis": {
             "endlinecolor": "#2a3f5f",
             "gridcolor": "white",
             "linecolor": "white",
             "minorgridcolor": "white",
             "startlinecolor": "#2a3f5f"
            },
            "type": "carpet"
           }
          ],
          "choropleth": [
           {
            "colorbar": {
             "outlinewidth": 0,
             "ticks": ""
            },
            "type": "choropleth"
           }
          ],
          "contour": [
           {
            "colorbar": {
             "outlinewidth": 0,
             "ticks": ""
            },
            "colorscale": [
             [
              0,
              "#0d0887"
             ],
             [
              0.1111111111111111,
              "#46039f"
             ],
             [
              0.2222222222222222,
              "#7201a8"
             ],
             [
              0.3333333333333333,
              "#9c179e"
             ],
             [
              0.4444444444444444,
              "#bd3786"
             ],
             [
              0.5555555555555556,
              "#d8576b"
             ],
             [
              0.6666666666666666,
              "#ed7953"
             ],
             [
              0.7777777777777778,
              "#fb9f3a"
             ],
             [
              0.8888888888888888,
              "#fdca26"
             ],
             [
              1,
              "#f0f921"
             ]
            ],
            "type": "contour"
           }
          ],
          "contourcarpet": [
           {
            "colorbar": {
             "outlinewidth": 0,
             "ticks": ""
            },
            "type": "contourcarpet"
           }
          ],
          "heatmap": [
           {
            "colorbar": {
             "outlinewidth": 0,
             "ticks": ""
            },
            "colorscale": [
             [
              0,
              "#0d0887"
             ],
             [
              0.1111111111111111,
              "#46039f"
             ],
             [
              0.2222222222222222,
              "#7201a8"
             ],
             [
              0.3333333333333333,
              "#9c179e"
             ],
             [
              0.4444444444444444,
              "#bd3786"
             ],
             [
              0.5555555555555556,
              "#d8576b"
             ],
             [
              0.6666666666666666,
              "#ed7953"
             ],
             [
              0.7777777777777778,
              "#fb9f3a"
             ],
             [
              0.8888888888888888,
              "#fdca26"
             ],
             [
              1,
              "#f0f921"
             ]
            ],
            "type": "heatmap"
           }
          ],
          "heatmapgl": [
           {
            "colorbar": {
             "outlinewidth": 0,
             "ticks": ""
            },
            "colorscale": [
             [
              0,
              "#0d0887"
             ],
             [
              0.1111111111111111,
              "#46039f"
             ],
             [
              0.2222222222222222,
              "#7201a8"
             ],
             [
              0.3333333333333333,
              "#9c179e"
             ],
             [
              0.4444444444444444,
              "#bd3786"
             ],
             [
              0.5555555555555556,
              "#d8576b"
             ],
             [
              0.6666666666666666,
              "#ed7953"
             ],
             [
              0.7777777777777778,
              "#fb9f3a"
             ],
             [
              0.8888888888888888,
              "#fdca26"
             ],
             [
              1,
              "#f0f921"
             ]
            ],
            "type": "heatmapgl"
           }
          ],
          "histogram": [
           {
            "marker": {
             "pattern": {
              "fillmode": "overlay",
              "size": 10,
              "solidity": 0.2
             }
            },
            "type": "histogram"
           }
          ],
          "histogram2d": [
           {
            "colorbar": {
             "outlinewidth": 0,
             "ticks": ""
            },
            "colorscale": [
             [
              0,
              "#0d0887"
             ],
             [
              0.1111111111111111,
              "#46039f"
             ],
             [
              0.2222222222222222,
              "#7201a8"
             ],
             [
              0.3333333333333333,
              "#9c179e"
             ],
             [
              0.4444444444444444,
              "#bd3786"
             ],
             [
              0.5555555555555556,
              "#d8576b"
             ],
             [
              0.6666666666666666,
              "#ed7953"
             ],
             [
              0.7777777777777778,
              "#fb9f3a"
             ],
             [
              0.8888888888888888,
              "#fdca26"
             ],
             [
              1,
              "#f0f921"
             ]
            ],
            "type": "histogram2d"
           }
          ],
          "histogram2dcontour": [
           {
            "colorbar": {
             "outlinewidth": 0,
             "ticks": ""
            },
            "colorscale": [
             [
              0,
              "#0d0887"
             ],
             [
              0.1111111111111111,
              "#46039f"
             ],
             [
              0.2222222222222222,
              "#7201a8"
             ],
             [
              0.3333333333333333,
              "#9c179e"
             ],
             [
              0.4444444444444444,
              "#bd3786"
             ],
             [
              0.5555555555555556,
              "#d8576b"
             ],
             [
              0.6666666666666666,
              "#ed7953"
             ],
             [
              0.7777777777777778,
              "#fb9f3a"
             ],
             [
              0.8888888888888888,
              "#fdca26"
             ],
             [
              1,
              "#f0f921"
             ]
            ],
            "type": "histogram2dcontour"
           }
          ],
          "mesh3d": [
           {
            "colorbar": {
             "outlinewidth": 0,
             "ticks": ""
            },
            "type": "mesh3d"
           }
          ],
          "parcoords": [
           {
            "line": {
             "colorbar": {
              "outlinewidth": 0,
              "ticks": ""
             }
            },
            "type": "parcoords"
           }
          ],
          "pie": [
           {
            "automargin": true,
            "type": "pie"
           }
          ],
          "scatter": [
           {
            "fillpattern": {
             "fillmode": "overlay",
             "size": 10,
             "solidity": 0.2
            },
            "type": "scatter"
           }
          ],
          "scatter3d": [
           {
            "line": {
             "colorbar": {
              "outlinewidth": 0,
              "ticks": ""
             }
            },
            "marker": {
             "colorbar": {
              "outlinewidth": 0,
              "ticks": ""
             }
            },
            "type": "scatter3d"
           }
          ],
          "scattercarpet": [
           {
            "marker": {
             "colorbar": {
              "outlinewidth": 0,
              "ticks": ""
             }
            },
            "type": "scattercarpet"
           }
          ],
          "scattergeo": [
           {
            "marker": {
             "colorbar": {
              "outlinewidth": 0,
              "ticks": ""
             }
            },
            "type": "scattergeo"
           }
          ],
          "scattergl": [
           {
            "marker": {
             "colorbar": {
              "outlinewidth": 0,
              "ticks": ""
             }
            },
            "type": "scattergl"
           }
          ],
          "scattermapbox": [
           {
            "marker": {
             "colorbar": {
              "outlinewidth": 0,
              "ticks": ""
             }
            },
            "type": "scattermapbox"
           }
          ],
          "scatterpolar": [
           {
            "marker": {
             "colorbar": {
              "outlinewidth": 0,
              "ticks": ""
             }
            },
            "type": "scatterpolar"
           }
          ],
          "scatterpolargl": [
           {
            "marker": {
             "colorbar": {
              "outlinewidth": 0,
              "ticks": ""
             }
            },
            "type": "scatterpolargl"
           }
          ],
          "scatterternary": [
           {
            "marker": {
             "colorbar": {
              "outlinewidth": 0,
              "ticks": ""
             }
            },
            "type": "scatterternary"
           }
          ],
          "surface": [
           {
            "colorbar": {
             "outlinewidth": 0,
             "ticks": ""
            },
            "colorscale": [
             [
              0,
              "#0d0887"
             ],
             [
              0.1111111111111111,
              "#46039f"
             ],
             [
              0.2222222222222222,
              "#7201a8"
             ],
             [
              0.3333333333333333,
              "#9c179e"
             ],
             [
              0.4444444444444444,
              "#bd3786"
             ],
             [
              0.5555555555555556,
              "#d8576b"
             ],
             [
              0.6666666666666666,
              "#ed7953"
             ],
             [
              0.7777777777777778,
              "#fb9f3a"
             ],
             [
              0.8888888888888888,
              "#fdca26"
             ],
             [
              1,
              "#f0f921"
             ]
            ],
            "type": "surface"
           }
          ],
          "table": [
           {
            "cells": {
             "fill": {
              "color": "#EBF0F8"
             },
             "line": {
              "color": "white"
             }
            },
            "header": {
             "fill": {
              "color": "#C8D4E3"
             },
             "line": {
              "color": "white"
             }
            },
            "type": "table"
           }
          ]
         },
         "layout": {
          "annotationdefaults": {
           "arrowcolor": "#2a3f5f",
           "arrowhead": 0,
           "arrowwidth": 1
          },
          "autotypenumbers": "strict",
          "coloraxis": {
           "colorbar": {
            "outlinewidth": 0,
            "ticks": ""
           }
          },
          "colorscale": {
           "diverging": [
            [
             0,
             "#8e0152"
            ],
            [
             0.1,
             "#c51b7d"
            ],
            [
             0.2,
             "#de77ae"
            ],
            [
             0.3,
             "#f1b6da"
            ],
            [
             0.4,
             "#fde0ef"
            ],
            [
             0.5,
             "#f7f7f7"
            ],
            [
             0.6,
             "#e6f5d0"
            ],
            [
             0.7,
             "#b8e186"
            ],
            [
             0.8,
             "#7fbc41"
            ],
            [
             0.9,
             "#4d9221"
            ],
            [
             1,
             "#276419"
            ]
           ],
           "sequential": [
            [
             0,
             "#0d0887"
            ],
            [
             0.1111111111111111,
             "#46039f"
            ],
            [
             0.2222222222222222,
             "#7201a8"
            ],
            [
             0.3333333333333333,
             "#9c179e"
            ],
            [
             0.4444444444444444,
             "#bd3786"
            ],
            [
             0.5555555555555556,
             "#d8576b"
            ],
            [
             0.6666666666666666,
             "#ed7953"
            ],
            [
             0.7777777777777778,
             "#fb9f3a"
            ],
            [
             0.8888888888888888,
             "#fdca26"
            ],
            [
             1,
             "#f0f921"
            ]
           ],
           "sequentialminus": [
            [
             0,
             "#0d0887"
            ],
            [
             0.1111111111111111,
             "#46039f"
            ],
            [
             0.2222222222222222,
             "#7201a8"
            ],
            [
             0.3333333333333333,
             "#9c179e"
            ],
            [
             0.4444444444444444,
             "#bd3786"
            ],
            [
             0.5555555555555556,
             "#d8576b"
            ],
            [
             0.6666666666666666,
             "#ed7953"
            ],
            [
             0.7777777777777778,
             "#fb9f3a"
            ],
            [
             0.8888888888888888,
             "#fdca26"
            ],
            [
             1,
             "#f0f921"
            ]
           ]
          },
          "colorway": [
           "#636efa",
           "#EF553B",
           "#00cc96",
           "#ab63fa",
           "#FFA15A",
           "#19d3f3",
           "#FF6692",
           "#B6E880",
           "#FF97FF",
           "#FECB52"
          ],
          "font": {
           "color": "#2a3f5f"
          },
          "geo": {
           "bgcolor": "white",
           "lakecolor": "white",
           "landcolor": "#E5ECF6",
           "showlakes": true,
           "showland": true,
           "subunitcolor": "white"
          },
          "hoverlabel": {
           "align": "left"
          },
          "hovermode": "closest",
          "mapbox": {
           "style": "light"
          },
          "paper_bgcolor": "white",
          "plot_bgcolor": "#E5ECF6",
          "polar": {
           "angularaxis": {
            "gridcolor": "white",
            "linecolor": "white",
            "ticks": ""
           },
           "bgcolor": "#E5ECF6",
           "radialaxis": {
            "gridcolor": "white",
            "linecolor": "white",
            "ticks": ""
           }
          },
          "scene": {
           "xaxis": {
            "backgroundcolor": "#E5ECF6",
            "gridcolor": "white",
            "gridwidth": 2,
            "linecolor": "white",
            "showbackground": true,
            "ticks": "",
            "zerolinecolor": "white"
           },
           "yaxis": {
            "backgroundcolor": "#E5ECF6",
            "gridcolor": "white",
            "gridwidth": 2,
            "linecolor": "white",
            "showbackground": true,
            "ticks": "",
            "zerolinecolor": "white"
           },
           "zaxis": {
            "backgroundcolor": "#E5ECF6",
            "gridcolor": "white",
            "gridwidth": 2,
            "linecolor": "white",
            "showbackground": true,
            "ticks": "",
            "zerolinecolor": "white"
           }
          },
          "shapedefaults": {
           "line": {
            "color": "#2a3f5f"
           }
          },
          "ternary": {
           "aaxis": {
            "gridcolor": "white",
            "linecolor": "white",
            "ticks": ""
           },
           "baxis": {
            "gridcolor": "white",
            "linecolor": "white",
            "ticks": ""
           },
           "bgcolor": "#E5ECF6",
           "caxis": {
            "gridcolor": "white",
            "linecolor": "white",
            "ticks": ""
           }
          },
          "title": {
           "x": 0.05
          },
          "xaxis": {
           "automargin": true,
           "gridcolor": "white",
           "linecolor": "white",
           "ticks": "",
           "title": {
            "standoff": 15
           },
           "zerolinecolor": "white",
           "zerolinewidth": 2
          },
          "yaxis": {
           "automargin": true,
           "gridcolor": "white",
           "linecolor": "white",
           "ticks": "",
           "title": {
            "standoff": 15
           },
           "zerolinecolor": "white",
           "zerolinewidth": 2
          }
         }
        },
        "title": {
         "font": {
          "size": 20
         },
         "text": "Distribución de Tipos de Conexión",
         "x": 0.5
        }
       }
      },
      "text/html": [
       "<div>                            <div id=\"cb1638d5-3aca-4978-8e49-cd6d314f52af\" class=\"plotly-graph-div\" style=\"height:525px; width:100%;\"></div>            <script type=\"text/javascript\">                require([\"plotly\"], function(Plotly) {                    window.PLOTLYENV=window.PLOTLYENV || {};                                    if (document.getElementById(\"cb1638d5-3aca-4978-8e49-cd6d314f52af\")) {                    Plotly.newPlot(                        \"cb1638d5-3aca-4978-8e49-cd6d314f52af\",                        [{\"domain\":{\"x\":[0.0,1.0],\"y\":[0.0,1.0]},\"hovertemplate\":\"tipo_conexion=%{label}\\u003cextra\\u003e\\u003c\\u002fextra\\u003e\",\"labels\":[\"Fibra \\u00f3ptica\",\"Fibra \\u00f3ptica\",\"4G\\u002f5G\",\"4G\\u002f5G\",\"4G\\u002f5G\",\"4G\\u002f5G\",\"4G\\u002f5G\",\"4G\\u002f5G\",\"4G\\u002f5G\",\"4G\\u002f5G\",\"Wi-fi Antena\",\"Cable\",\"4G\\u002f5G\",\"Cable\",\"Cable\",\"Fibra \\u00f3ptica\",\"4G\\u002f5G\",\"Fibra \\u00f3ptica\",\"4G\\u002f5G\",\"Fibra \\u00f3ptica\",\"Fibra \\u00f3ptica\",\"Fibra \\u00f3ptica\",\"Fibra \\u00f3ptica\",\"Cable\",\"Fibra \\u00f3ptica\",\"4G\\u002f5G\",\"Cable\",\"Fibra \\u00f3ptica\",\"Ninguna\",\"4G\\u002f5G\",\"Fibra \\u00f3ptica\",\"4G\\u002f5G\",\"Fibra \\u00f3ptica\",\"4G\\u002f5G\",\"Fibra \\u00f3ptica\",\"4G\\u002f5G\",\"Fibra \\u00f3ptica\",\"Fibra \\u00f3ptica\",\"Fibra \\u00f3ptica\",\"Fibra \\u00f3ptica\",\"Fibra \\u00f3ptica\",\"Cable\",\"Cable\",\"4G\\u002f5G\",\"Fibra \\u00f3ptica\",\"Cable\",\"Fibra \\u00f3ptica\",\"Cable\",\"Fibra \\u00f3ptica\",\"Fibra \\u00f3ptica\",\"Fibra \\u00f3ptica\",\"Cable\",\"Cable\",\"4G\\u002f5G\",\"Fibra \\u00f3ptica\",\"Fibra \\u00f3ptica\",\"Cable\",\"Cable\",\"Fibra \\u00f3ptica\",\"4G\\u002f5G\",\"Fibra \\u00f3ptica\",\"4G\\u002f5G\",\"Ninguna\",\"4G\\u002f5G\",\"Fibra \\u00f3ptica\",\"4G\\u002f5G\",\"4G\\u002f5G\",\"Fibra \\u00f3ptica\",\"4G\\u002f5G\",\"4G\\u002f5G\",\"Fibra \\u00f3ptica\",\"4G\\u002f5G\"],\"legendgroup\":\"\",\"name\":\"\",\"showlegend\":true,\"type\":\"pie\",\"textinfo\":\"percent+label\",\"textposition\":\"inside\"}],                        {\"template\":{\"data\":{\"histogram2dcontour\":[{\"type\":\"histogram2dcontour\",\"colorbar\":{\"outlinewidth\":0,\"ticks\":\"\"},\"colorscale\":[[0.0,\"#0d0887\"],[0.1111111111111111,\"#46039f\"],[0.2222222222222222,\"#7201a8\"],[0.3333333333333333,\"#9c179e\"],[0.4444444444444444,\"#bd3786\"],[0.5555555555555556,\"#d8576b\"],[0.6666666666666666,\"#ed7953\"],[0.7777777777777778,\"#fb9f3a\"],[0.8888888888888888,\"#fdca26\"],[1.0,\"#f0f921\"]]}],\"choropleth\":[{\"type\":\"choropleth\",\"colorbar\":{\"outlinewidth\":0,\"ticks\":\"\"}}],\"histogram2d\":[{\"type\":\"histogram2d\",\"colorbar\":{\"outlinewidth\":0,\"ticks\":\"\"},\"colorscale\":[[0.0,\"#0d0887\"],[0.1111111111111111,\"#46039f\"],[0.2222222222222222,\"#7201a8\"],[0.3333333333333333,\"#9c179e\"],[0.4444444444444444,\"#bd3786\"],[0.5555555555555556,\"#d8576b\"],[0.6666666666666666,\"#ed7953\"],[0.7777777777777778,\"#fb9f3a\"],[0.8888888888888888,\"#fdca26\"],[1.0,\"#f0f921\"]]}],\"heatmap\":[{\"type\":\"heatmap\",\"colorbar\":{\"outlinewidth\":0,\"ticks\":\"\"},\"colorscale\":[[0.0,\"#0d0887\"],[0.1111111111111111,\"#46039f\"],[0.2222222222222222,\"#7201a8\"],[0.3333333333333333,\"#9c179e\"],[0.4444444444444444,\"#bd3786\"],[0.5555555555555556,\"#d8576b\"],[0.6666666666666666,\"#ed7953\"],[0.7777777777777778,\"#fb9f3a\"],[0.8888888888888888,\"#fdca26\"],[1.0,\"#f0f921\"]]}],\"heatmapgl\":[{\"type\":\"heatmapgl\",\"colorbar\":{\"outlinewidth\":0,\"ticks\":\"\"},\"colorscale\":[[0.0,\"#0d0887\"],[0.1111111111111111,\"#46039f\"],[0.2222222222222222,\"#7201a8\"],[0.3333333333333333,\"#9c179e\"],[0.4444444444444444,\"#bd3786\"],[0.5555555555555556,\"#d8576b\"],[0.6666666666666666,\"#ed7953\"],[0.7777777777777778,\"#fb9f3a\"],[0.8888888888888888,\"#fdca26\"],[1.0,\"#f0f921\"]]}],\"contourcarpet\":[{\"type\":\"contourcarpet\",\"colorbar\":{\"outlinewidth\":0,\"ticks\":\"\"}}],\"contour\":[{\"type\":\"contour\",\"colorbar\":{\"outlinewidth\":0,\"ticks\":\"\"},\"colorscale\":[[0.0,\"#0d0887\"],[0.1111111111111111,\"#46039f\"],[0.2222222222222222,\"#7201a8\"],[0.3333333333333333,\"#9c179e\"],[0.4444444444444444,\"#bd3786\"],[0.5555555555555556,\"#d8576b\"],[0.6666666666666666,\"#ed7953\"],[0.7777777777777778,\"#fb9f3a\"],[0.8888888888888888,\"#fdca26\"],[1.0,\"#f0f921\"]]}],\"surface\":[{\"type\":\"surface\",\"colorbar\":{\"outlinewidth\":0,\"ticks\":\"\"},\"colorscale\":[[0.0,\"#0d0887\"],[0.1111111111111111,\"#46039f\"],[0.2222222222222222,\"#7201a8\"],[0.3333333333333333,\"#9c179e\"],[0.4444444444444444,\"#bd3786\"],[0.5555555555555556,\"#d8576b\"],[0.6666666666666666,\"#ed7953\"],[0.7777777777777778,\"#fb9f3a\"],[0.8888888888888888,\"#fdca26\"],[1.0,\"#f0f921\"]]}],\"mesh3d\":[{\"type\":\"mesh3d\",\"colorbar\":{\"outlinewidth\":0,\"ticks\":\"\"}}],\"scatter\":[{\"fillpattern\":{\"fillmode\":\"overlay\",\"size\":10,\"solidity\":0.2},\"type\":\"scatter\"}],\"parcoords\":[{\"type\":\"parcoords\",\"line\":{\"colorbar\":{\"outlinewidth\":0,\"ticks\":\"\"}}}],\"scatterpolargl\":[{\"type\":\"scatterpolargl\",\"marker\":{\"colorbar\":{\"outlinewidth\":0,\"ticks\":\"\"}}}],\"bar\":[{\"error_x\":{\"color\":\"#2a3f5f\"},\"error_y\":{\"color\":\"#2a3f5f\"},\"marker\":{\"line\":{\"color\":\"#E5ECF6\",\"width\":0.5},\"pattern\":{\"fillmode\":\"overlay\",\"size\":10,\"solidity\":0.2}},\"type\":\"bar\"}],\"scattergeo\":[{\"type\":\"scattergeo\",\"marker\":{\"colorbar\":{\"outlinewidth\":0,\"ticks\":\"\"}}}],\"scatterpolar\":[{\"type\":\"scatterpolar\",\"marker\":{\"colorbar\":{\"outlinewidth\":0,\"ticks\":\"\"}}}],\"histogram\":[{\"marker\":{\"pattern\":{\"fillmode\":\"overlay\",\"size\":10,\"solidity\":0.2}},\"type\":\"histogram\"}],\"scattergl\":[{\"type\":\"scattergl\",\"marker\":{\"colorbar\":{\"outlinewidth\":0,\"ticks\":\"\"}}}],\"scatter3d\":[{\"type\":\"scatter3d\",\"line\":{\"colorbar\":{\"outlinewidth\":0,\"ticks\":\"\"}},\"marker\":{\"colorbar\":{\"outlinewidth\":0,\"ticks\":\"\"}}}],\"scattermapbox\":[{\"type\":\"scattermapbox\",\"marker\":{\"colorbar\":{\"outlinewidth\":0,\"ticks\":\"\"}}}],\"scatterternary\":[{\"type\":\"scatterternary\",\"marker\":{\"colorbar\":{\"outlinewidth\":0,\"ticks\":\"\"}}}],\"scattercarpet\":[{\"type\":\"scattercarpet\",\"marker\":{\"colorbar\":{\"outlinewidth\":0,\"ticks\":\"\"}}}],\"carpet\":[{\"aaxis\":{\"endlinecolor\":\"#2a3f5f\",\"gridcolor\":\"white\",\"linecolor\":\"white\",\"minorgridcolor\":\"white\",\"startlinecolor\":\"#2a3f5f\"},\"baxis\":{\"endlinecolor\":\"#2a3f5f\",\"gridcolor\":\"white\",\"linecolor\":\"white\",\"minorgridcolor\":\"white\",\"startlinecolor\":\"#2a3f5f\"},\"type\":\"carpet\"}],\"table\":[{\"cells\":{\"fill\":{\"color\":\"#EBF0F8\"},\"line\":{\"color\":\"white\"}},\"header\":{\"fill\":{\"color\":\"#C8D4E3\"},\"line\":{\"color\":\"white\"}},\"type\":\"table\"}],\"barpolar\":[{\"marker\":{\"line\":{\"color\":\"#E5ECF6\",\"width\":0.5},\"pattern\":{\"fillmode\":\"overlay\",\"size\":10,\"solidity\":0.2}},\"type\":\"barpolar\"}],\"pie\":[{\"automargin\":true,\"type\":\"pie\"}]},\"layout\":{\"autotypenumbers\":\"strict\",\"colorway\":[\"#636efa\",\"#EF553B\",\"#00cc96\",\"#ab63fa\",\"#FFA15A\",\"#19d3f3\",\"#FF6692\",\"#B6E880\",\"#FF97FF\",\"#FECB52\"],\"font\":{\"color\":\"#2a3f5f\"},\"hovermode\":\"closest\",\"hoverlabel\":{\"align\":\"left\"},\"paper_bgcolor\":\"white\",\"plot_bgcolor\":\"#E5ECF6\",\"polar\":{\"bgcolor\":\"#E5ECF6\",\"angularaxis\":{\"gridcolor\":\"white\",\"linecolor\":\"white\",\"ticks\":\"\"},\"radialaxis\":{\"gridcolor\":\"white\",\"linecolor\":\"white\",\"ticks\":\"\"}},\"ternary\":{\"bgcolor\":\"#E5ECF6\",\"aaxis\":{\"gridcolor\":\"white\",\"linecolor\":\"white\",\"ticks\":\"\"},\"baxis\":{\"gridcolor\":\"white\",\"linecolor\":\"white\",\"ticks\":\"\"},\"caxis\":{\"gridcolor\":\"white\",\"linecolor\":\"white\",\"ticks\":\"\"}},\"coloraxis\":{\"colorbar\":{\"outlinewidth\":0,\"ticks\":\"\"}},\"colorscale\":{\"sequential\":[[0.0,\"#0d0887\"],[0.1111111111111111,\"#46039f\"],[0.2222222222222222,\"#7201a8\"],[0.3333333333333333,\"#9c179e\"],[0.4444444444444444,\"#bd3786\"],[0.5555555555555556,\"#d8576b\"],[0.6666666666666666,\"#ed7953\"],[0.7777777777777778,\"#fb9f3a\"],[0.8888888888888888,\"#fdca26\"],[1.0,\"#f0f921\"]],\"sequentialminus\":[[0.0,\"#0d0887\"],[0.1111111111111111,\"#46039f\"],[0.2222222222222222,\"#7201a8\"],[0.3333333333333333,\"#9c179e\"],[0.4444444444444444,\"#bd3786\"],[0.5555555555555556,\"#d8576b\"],[0.6666666666666666,\"#ed7953\"],[0.7777777777777778,\"#fb9f3a\"],[0.8888888888888888,\"#fdca26\"],[1.0,\"#f0f921\"]],\"diverging\":[[0,\"#8e0152\"],[0.1,\"#c51b7d\"],[0.2,\"#de77ae\"],[0.3,\"#f1b6da\"],[0.4,\"#fde0ef\"],[0.5,\"#f7f7f7\"],[0.6,\"#e6f5d0\"],[0.7,\"#b8e186\"],[0.8,\"#7fbc41\"],[0.9,\"#4d9221\"],[1,\"#276419\"]]},\"xaxis\":{\"gridcolor\":\"white\",\"linecolor\":\"white\",\"ticks\":\"\",\"title\":{\"standoff\":15},\"zerolinecolor\":\"white\",\"automargin\":true,\"zerolinewidth\":2},\"yaxis\":{\"gridcolor\":\"white\",\"linecolor\":\"white\",\"ticks\":\"\",\"title\":{\"standoff\":15},\"zerolinecolor\":\"white\",\"automargin\":true,\"zerolinewidth\":2},\"scene\":{\"xaxis\":{\"backgroundcolor\":\"#E5ECF6\",\"gridcolor\":\"white\",\"linecolor\":\"white\",\"showbackground\":true,\"ticks\":\"\",\"zerolinecolor\":\"white\",\"gridwidth\":2},\"yaxis\":{\"backgroundcolor\":\"#E5ECF6\",\"gridcolor\":\"white\",\"linecolor\":\"white\",\"showbackground\":true,\"ticks\":\"\",\"zerolinecolor\":\"white\",\"gridwidth\":2},\"zaxis\":{\"backgroundcolor\":\"#E5ECF6\",\"gridcolor\":\"white\",\"linecolor\":\"white\",\"showbackground\":true,\"ticks\":\"\",\"zerolinecolor\":\"white\",\"gridwidth\":2}},\"shapedefaults\":{\"line\":{\"color\":\"#2a3f5f\"}},\"annotationdefaults\":{\"arrowcolor\":\"#2a3f5f\",\"arrowhead\":0,\"arrowwidth\":1},\"geo\":{\"bgcolor\":\"white\",\"landcolor\":\"#E5ECF6\",\"subunitcolor\":\"white\",\"showland\":true,\"showlakes\":true,\"lakecolor\":\"white\"},\"title\":{\"x\":0.05},\"mapbox\":{\"style\":\"light\"}}},\"legend\":{\"tracegroupgap\":0},\"title\":{\"text\":\"Distribuci\\u00f3n de Tipos de Conexi\\u00f3n\",\"font\":{\"size\":20},\"x\":0.5},\"piecolorway\":[\"rgb(102, 197, 204)\",\"rgb(246, 207, 113)\",\"rgb(248, 156, 116)\",\"rgb(220, 176, 242)\",\"rgb(135, 197, 95)\",\"rgb(158, 185, 243)\",\"rgb(254, 136, 177)\",\"rgb(201, 219, 116)\",\"rgb(139, 224, 164)\",\"rgb(180, 151, 231)\",\"rgb(179, 179, 179)\"],\"paper_bgcolor\":\"rgba(0,0,0,0)\",\"plot_bgcolor\":\"rgba(0,0,0,0)\"},                        {\"responsive\": true}                    ).then(function(){\n",
       "                            \n",
       "var gd = document.getElementById('cb1638d5-3aca-4978-8e49-cd6d314f52af');\n",
       "var x = new MutationObserver(function (mutations, observer) {{\n",
       "        var display = window.getComputedStyle(gd).display;\n",
       "        if (!display || display === 'none') {{\n",
       "            console.log([gd, 'removed!']);\n",
       "            Plotly.purge(gd);\n",
       "            observer.disconnect();\n",
       "        }}\n",
       "}});\n",
       "\n",
       "// Listen for the removal of the full notebook cells\n",
       "var notebookContainer = gd.closest('#notebook-container');\n",
       "if (notebookContainer) {{\n",
       "    x.observe(notebookContainer, {childList: true});\n",
       "}}\n",
       "\n",
       "// Listen for the clearing of the current output cell\n",
       "var outputEl = gd.closest('.output');\n",
       "if (outputEl) {{\n",
       "    x.observe(outputEl, {childList: true});\n",
       "}}\n",
       "\n",
       "                        })                };                });            </script>        </div>"
      ]
     },
     "metadata": {},
     "output_type": "display_data"
    }
   ],
   "source": [
    "import plotly.express as px\n",
    "\n",
    "# Create the pie chart\n",
    "fig = px.pie(datos, names='tipo_conexion', title='Distribución de Tipos de Conexión', color_discrete_sequence=px.colors.qualitative.Pastel)\n",
    "\n",
    "# Customize the chart for a minimalist style\n",
    "fig.update_traces(textinfo='percent+label', textposition='inside')\n",
    "fig.update_layout(\n",
    "    title_font_size=20,  # Adjust title font size\n",
    " \n",
    "    paper_bgcolor='rgba(0,0,0,0)', # Set transparent background\n",
    "    plot_bgcolor='rgba(0,0,0,0)',\n",
    ")\n",
    "# Center the title:\n",
    "fig.update_layout(title_x=0.5)\n",
    "\n",
    "fig.show()\n"
   ]
  },
  {
   "cell_type": "markdown",
   "metadata": {
    "id": "aV27dRMw1Z04"
   },
   "source": [
    "### 1.c. Valoración de la calidad de internet"
   ]
  },
  {
   "cell_type": "code",
   "execution_count": 26,
   "metadata": {
    "colab": {
     "base_uri": "https://localhost:8080/",
     "height": 484
    },
    "id": "YGcHiuv21Y-S",
    "outputId": "298c7d1f-e7b9-4af0-8b6e-21d78f05bb8d"
   },
   "outputs": [
    {
     "data": {
      "image/png": "[encoded data removed]",
      "text/plain": [
       "<Figure size 1000x600 with 1 Axes>"
      ]
     },
     "metadata": {},
     "output_type": "display_data"
    }
   ],
   "source": [
    "plt.figure(figsize=(10, 6))\n",
    "ax = sns.countplot(y='calidad_internet', data=datos, color='#DDDDDD', edgecolor='black')\n",
    "\n",
    "plt.title('Calidad del Internet', fontsize=14, fontweight='normal', color='#333333')\n",
    "plt.xlabel('Frecuencia', fontsize=12, color='#333333')\n",
    "plt.ylabel('Calidad', fontsize=12, color='#333333')\n",
    "plt.xticks(fontsize=10, color='#333333')\n",
    "plt.yticks(fontsize=10, color='#333333')\n",
    "plt.grid(axis='x', linestyle='-', alpha=0.3, color='#CCCCCC')\n",
    "plt.gca().spines['top'].set_visible(False)\n",
    "plt.gca().spines['right'].set_visible(False)\n",
    "\n",
    "# Add frequency labels:\n",
    "for p in ax.patches:\n",
    "    width = p.get_width()\n",
    "    ax.text(width + 1,       # Position the text (x-coordinate)\n",
    "            p.get_y() + p.get_height() / 2, # Position the text (y-coordinate)\n",
    "            '{:1.0f}'.format(width), # Format the text (remove decimals)\n",
    "            ha=\"left\",\n",
    "            va='center',\n",
    "            fontsize=10,\n",
    "            color='#333333')  # Dark gray text color\n",
    "\n",
    "plt.tight_layout()\n",
    "plt.show()"
   ]
  },
  {
   "cell_type": "markdown",
   "metadata": {
    "id": "N1EBIXUMfiQw"
   },
   "source": [
    "## 2. Uso"
   ]
  },
  {
   "cell_type": "markdown",
   "metadata": {
    "id": "sh4x2SQa12Y8"
   },
   "source": [
    "### 2.a. Grafio de proposito de uso"
   ]
  },
  {
   "cell_type": "code",
   "execution_count": 27,
   "metadata": {
    "colab": {
     "base_uri": "https://localhost:8080/",
     "height": 581
    },
    "id": "--3bNhlk3xW4",
    "outputId": "cd286eab-8256-4a15-8b63-092a462b6285"
   },
   "outputs": [
    {
     "data": {
      "text/plain": [
       "<Figure size 1000x600 with 0 Axes>"
      ]
     },
     "metadata": {},
     "output_type": "display_data"
    },
    {
     "data": {
      "image/png": "[encoded data removed]",
      "text/plain": [
       "<Figure size 1200x700 with 1 Axes>"
      ]
     },
     "metadata": {},
     "output_type": "display_data"
    }
   ],
   "source": [
    "import matplotlib.pyplot as plt\n",
    "import seaborn as sns\n",
    "\n",
    "# Extracting relevant columns for the bar chart\n",
    "columns = [\n",
    "    \"uso_plataforma_educativa\",\n",
    "    \"uso_db_academica\",\n",
    "    \"uso_software_analisis\",\n",
    "    \"uso_herramientas_colaboracion\",\n",
    "    \"uso_sm_educativa\"\n",
    "]\n",
    "\n",
    "# Summarizing the frequency of each value per column\n",
    "frequencies = datos[columns].apply(pd.Series.value_counts).fillna(0)\n",
    "\n",
    "# Plotting a multiple bar chart\n",
    "plt.figure(figsize=(10, 6))\n",
    "frequencies.plot(kind=\"bar\", width=0.8, figsize=(12, 7), color=sns.color_palette(\"Set2\", len(columns)))\n",
    "\n",
    "# Customizing the chart\n",
    "plt.title(\"Comparación del uso de herramientas digitales\", fontsize=16, weight='bold')\n",
    "plt.xlabel(\"Valor de Uso (Escala)\", fontsize=12)\n",
    "plt.ylabel(\"Frecuencia\", fontsize=12)\n",
    "plt.xticks(rotation=0, fontsize=10)\n",
    "plt.legend(title=\"Herramientas Digitales\", fontsize=10, labels=['Plataformas educativas', 'Base de datos academicas', 'Software de analisis', 'Herramientas colaborativas', 'Redes sociales educativas'])\n",
    "sns.despine()\n",
    "plt.tight_layout()\n",
    "\n",
    "ax = plt.gca()  # Get the current axes\n",
    "ax.set_facecolor('#fff')\n",
    "for container in ax.containers:\n",
    "    for bar in container:\n",
    "        height = bar.get_height()\n",
    "        label_text = f'{int(height)}'  # Format the label (remove decimals if needed)\n",
    "        ax.text(bar.get_x() + bar.get_width() / 2,  # X-coordinate of the label\n",
    "                height + 0.5,                       # Y-coordinate of the label\n",
    "                label_text,                        # The label text\n",
    "                ha='center', va='bottom',           # Horizontal and vertical alignment\n",
    "                fontsize=8, color='black')         # Font size and color\n",
    "\n",
    "\n",
    "# Display the plot\n",
    "plt.show()\n"
   ]
  },
  {
   "cell_type": "markdown",
   "metadata": {
    "id": "c91i7bLQfvEf"
   },
   "source": [
    "### 2.b. Frecuencia de uso (ninutos al dia)"
   ]
  },
  {
   "cell_type": "code",
   "execution_count": 28,
   "metadata": {
    "colab": {
     "base_uri": "https://localhost:8080/",
     "height": 300
    },
    "id": "Vxrbvjaq8tog",
    "outputId": "ae2dccb2-0b70-4bbb-de64-cd7169e92b52"
   },
   "outputs": [
    {
     "data": {
      "text/html": [
       "<div>\n",
       "<style scoped>\n",
       "    .dataframe tbody tr th:only-of-type {\n",
       "        vertical-align: middle;\n",
       "    }\n",
       "\n",
       "    .dataframe tbody tr th {\n",
       "        vertical-align: top;\n",
       "    }\n",
       "\n",
       "    .dataframe thead th {\n",
       "        text-align: right;\n",
       "    }\n",
       "</style>\n",
       "<table border=\"1\" class=\"dataframe\">\n",
       "  <thead>\n",
       "    <tr style=\"text-align: right;\">\n",
       "      <th></th>\n",
       "      <th>Intervalos</th>\n",
       "      <th>mi</th>\n",
       "      <th>fi</th>\n",
       "      <th>Fi</th>\n",
       "      <th>hi</th>\n",
       "      <th>Hi</th>\n",
       "      <th>pi</th>\n",
       "      <th>Pi</th>\n",
       "    </tr>\n",
       "  </thead>\n",
       "  <tbody>\n",
       "    <tr>\n",
       "      <th>1</th>\n",
       "      <td>[ 30.0 - 77.0 )</td>\n",
       "      <td>53.5</td>\n",
       "      <td>13</td>\n",
       "      <td>13</td>\n",
       "      <td>0.181</td>\n",
       "      <td>0.181</td>\n",
       "      <td>18.1</td>\n",
       "      <td>18.1</td>\n",
       "    </tr>\n",
       "    <tr>\n",
       "      <th>2</th>\n",
       "      <td>[ 77.0 - 124.0 )</td>\n",
       "      <td>100.5</td>\n",
       "      <td>14</td>\n",
       "      <td>27</td>\n",
       "      <td>0.194</td>\n",
       "      <td>0.375</td>\n",
       "      <td>19.4</td>\n",
       "      <td>37.5</td>\n",
       "    </tr>\n",
       "    <tr>\n",
       "      <th>3</th>\n",
       "      <td>[ 124.0 - 171.0 )</td>\n",
       "      <td>147.5</td>\n",
       "      <td>11</td>\n",
       "      <td>38</td>\n",
       "      <td>0.153</td>\n",
       "      <td>0.528</td>\n",
       "      <td>15.3</td>\n",
       "      <td>52.8</td>\n",
       "    </tr>\n",
       "    <tr>\n",
       "      <th>4</th>\n",
       "      <td>[ 171.0 - 218.0 )</td>\n",
       "      <td>194.5</td>\n",
       "      <td>14</td>\n",
       "      <td>52</td>\n",
       "      <td>0.194</td>\n",
       "      <td>0.722</td>\n",
       "      <td>19.4</td>\n",
       "      <td>72.2</td>\n",
       "    </tr>\n",
       "    <tr>\n",
       "      <th>5</th>\n",
       "      <td>[ 218.0 - 265.0 )</td>\n",
       "      <td>241.5</td>\n",
       "      <td>9</td>\n",
       "      <td>61</td>\n",
       "      <td>0.125</td>\n",
       "      <td>0.847</td>\n",
       "      <td>12.5</td>\n",
       "      <td>84.7</td>\n",
       "    </tr>\n",
       "    <tr>\n",
       "      <th>6</th>\n",
       "      <td>[ 265.0 - 312.0 )</td>\n",
       "      <td>288.5</td>\n",
       "      <td>2</td>\n",
       "      <td>63</td>\n",
       "      <td>0.028</td>\n",
       "      <td>0.875</td>\n",
       "      <td>2.8</td>\n",
       "      <td>87.5</td>\n",
       "    </tr>\n",
       "    <tr>\n",
       "      <th>7</th>\n",
       "      <td>[ 312.0 - 359.0 )</td>\n",
       "      <td>335.5</td>\n",
       "      <td>3</td>\n",
       "      <td>66</td>\n",
       "      <td>0.042</td>\n",
       "      <td>0.917</td>\n",
       "      <td>4.2</td>\n",
       "      <td>91.7</td>\n",
       "    </tr>\n",
       "    <tr>\n",
       "      <th>8</th>\n",
       "      <td>[ 359.0 - 406.0 ]</td>\n",
       "      <td>382.5</td>\n",
       "      <td>6</td>\n",
       "      <td>72</td>\n",
       "      <td>0.083</td>\n",
       "      <td>1.000</td>\n",
       "      <td>8.3</td>\n",
       "      <td>100.0</td>\n",
       "    </tr>\n",
       "  </tbody>\n",
       "</table>\n",
       "</div>"
      ],
      "text/plain": [
       "          Intervalos     mi  fi  Fi     hi     Hi    pi     Pi\n",
       "1    [ 30.0 - 77.0 )   53.5  13  13  0.181  0.181  18.1   18.1\n",
       "2   [ 77.0 - 124.0 )  100.5  14  27  0.194  0.375  19.4   37.5\n",
       "3  [ 124.0 - 171.0 )  147.5  11  38  0.153  0.528  15.3   52.8\n",
       "4  [ 171.0 - 218.0 )  194.5  14  52  0.194  0.722  19.4   72.2\n",
       "5  [ 218.0 - 265.0 )  241.5   9  61  0.125  0.847  12.5   84.7\n",
       "6  [ 265.0 - 312.0 )  288.5   2  63  0.028  0.875   2.8   87.5\n",
       "7  [ 312.0 - 359.0 )  335.5   3  66  0.042  0.917   4.2   91.7\n",
       "8  [ 359.0 - 406.0 ]  382.5   6  72  0.083  1.000   8.3  100.0"
      ]
     },
     "execution_count": 28,
     "metadata": {},
     "output_type": "execute_result"
    }
   ],
   "source": [
    "tiempo_uso = datos[\"uso_tiempo_tic\"]\n",
    "analisis = FrequencyAnalysis(tiempo_uso)\n",
    "\n",
    "analisis.create_distribution_table()\n"
   ]
  },
  {
   "cell_type": "code",
   "execution_count": 29,
   "metadata": {
    "colab": {
     "base_uri": "https://localhost:8080/",
     "height": 484
    },
    "id": "Ms4bhxfKKD6X",
    "outputId": "08b155ca-8b16-42da-fdcd-307e13d287d9"
   },
   "outputs": [
    {
     "data": {
      "image/png": "[encoded data removed]",
      "text/plain": [
       "<Figure size 1000x600 with 1 Axes>"
      ]
     },
     "execution_count": 29,
     "metadata": {},
     "output_type": "execute_result"
    }
   ],
   "source": [
    "analisis.plot_ogive(FrequencyType.ABSOLUTE_CUMULATIVE)"
   ]
  },
  {
   "cell_type": "code",
   "execution_count": 30,
   "metadata": {
    "colab": {
     "base_uri": "https://localhost:8080/"
    },
    "id": "N2w8sdwoM5dc",
    "outputId": "5d9f411b-269a-4260-c883-332e1d257113"
   },
   "outputs": [
    {
     "data": {
      "text/plain": [
       "{'Media': np.float64(171.80555555555554),\n",
       " 'Mediana': np.float64(170.0),\n",
       " 'Moda': np.int64(200),\n",
       " 'Varianza': np.float64(10245.989827856029),\n",
       " 'Desviación estandar': np.float64(101.22247689054062),\n",
       " 'Skewness': np.float64(0.6785566371561325),\n",
       " 'Kurtosis': np.float64(-0.26084073307968847)}"
      ]
     },
     "execution_count": 30,
     "metadata": {},
     "output_type": "execute_result"
    }
   ],
   "source": [
    "analisis.calculate_statistics()\n"
   ]
  },
  {
   "cell_type": "markdown",
   "metadata": {
    "id": "ymcYSSLjMi8n"
   },
   "source": [
    "## 3. Habilidades digitales"
   ]
  },
  {
   "cell_type": "markdown",
   "metadata": {
    "id": "p7c9RgrHgVR1"
   },
   "source": [
    "### 3.a. Competencias para utilizar las TIC de manera efectiva\n"
   ]
  },
  {
   "cell_type": "code",
   "execution_count": 31,
   "metadata": {
    "colab": {
     "base_uri": "https://localhost:8080/",
     "height": 581
    },
    "id": "27R3KYwcMdhh",
    "outputId": "17561c7f-8c83-4eb0-be9b-de27ec65cf43"
   },
   "outputs": [
    {
     "data": {
      "text/plain": [
       "<Figure size 1000x600 with 0 Axes>"
      ]
     },
     "metadata": {},
     "output_type": "display_data"
    },
    {
     "data": {
      "image/png": "[encoded data removed]",
      "text/plain": [
       "<Figure size 1200x700 with 1 Axes>"
      ]
     },
     "metadata": {},
     "output_type": "display_data"
    }
   ],
   "source": [
    "\n",
    "# Extracting relevant columns for the bar chart\n",
    "columns = [\n",
    "    \"comp_busqueda\",\n",
    "    \"comp_data\",\n",
    "    \"comp_analisis\",\n",
    "    \"comp_presentacion\",\n",
    "    \"comp_programacion\"\n",
    "]\n",
    "\n",
    "# Summarizing the frequency of each value per column\n",
    "frequencies = datos[columns].apply(pd.Series.value_counts).fillna(0)\n",
    "\n",
    "# Plotting a multiple bar chart\n",
    "plt.figure(figsize=(10, 6))\n",
    "frequencies.plot(kind=\"bar\", width=0.8, figsize=(12, 7), color=sns.color_palette(\"Set2\", len(columns)))\n",
    "\n",
    "# Customizing the chart\n",
    "plt.title(\"Comparación de competencias digitales\", fontsize=16, weight='bold')\n",
    "plt.xlabel(\"Valor de Uso (Escala)\", fontsize=12)\n",
    "plt.ylabel(\"Frecuencia\", fontsize=12)\n",
    "plt.xticks(rotation=0, fontsize=10)\n",
    "plt.legend(title=\"Competencias digitales\", fontsize=10, labels=['Búsqueda', 'Datos', 'Análisis', 'Presentación', 'Programación'])\n",
    "sns.despine()\n",
    "plt.tight_layout()\n",
    "\n",
    "ax = plt.gca()  # Get the current axes\n",
    "ax.set_facecolor('#fff')\n",
    "\n",
    "for container in ax.containers:\n",
    "    for bar in container:\n",
    "        height = bar.get_height()\n",
    "        label_text = f'{int(height)}'  # Format the label (remove decimals if needed)\n",
    "        ax.text(bar.get_x() + bar.get_width() / 2,  # X-coordinate of the label\n",
    "                height + 0.5,                       # Y-coordinate of the label\n",
    "                label_text,                        # The label text\n",
    "                ha='center', va='bottom',           # Horizontal and vertical alignment\n",
    "                fontsize=8, color='black')         # Font size and color\n",
    "\n",
    "\n",
    "# Display the plot\n",
    "plt.show()\n"
   ]
  }
 ],
 "metadata": {
  "colab": {
   "provenance": []
  },
  "kernelspec": {
   "display_name": "desc-am8EC4qS-py3.11",
   "language": "python",
   "name": "python3"
  },
  "language_info": {
   "codemirror_mode": {
    "name": "ipython",
    "version": 3
   },
   "file_extension": ".py",
   "mimetype": "text/x-python",
   "name": "python",
   "nbconvert_exporter": "python",
   "pygments_lexer": "ipython3",
   "version": "3.11.10"
  }
 },
 "nbformat": 4,
 "nbformat_minor": 0
}
